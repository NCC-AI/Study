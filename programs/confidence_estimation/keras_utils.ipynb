{
 "cells": [
  {
   "cell_type": "code",
   "execution_count": 1,
   "metadata": {},
   "outputs": [
    {
     "name": "stderr",
     "output_type": "stream",
     "text": [
      "Using TensorFlow backend.\n"
     ]
    }
   ],
   "source": [
    "import numpy as np\n",
    "import matplotlib.pyplot as plt\n",
    "from keras.models import Model, Sequential\n",
    "from keras.layers import Activation, Dense,Flatten, Dropout, Input\n",
    "from keras.layers import MaxPooling2D, Conv2D, AveragePooling2D, ZeroPadding2D\n",
    "from keras.layers.normalization import BatchNormalization\n",
    "import keras.backend as K\n",
    "import keras\n",
    "from keras.losses import categorical_crossentropy"
   ]
  },
  {
   "cell_type": "code",
   "execution_count": 2,
   "metadata": {},
   "outputs": [],
   "source": [
    "lmbda = 0.1\n",
    "batch_size =128\n",
    "epochs = 200\n",
    "seed = 0\n",
    "learning_rate = 0.1\n",
    "data_augmentation = False\n",
    "cutout = 16\n",
    "budget = 0.3"
   ]
  },
  {
   "cell_type": "code",
   "execution_count": 3,
   "metadata": {},
   "outputs": [],
   "source": [
    "VGG13 = [64, 64, 'M', 128, 128, 'M', 256, 256, 'M', 512, 512, 'M', 512, 512, 'M']\n",
    "\n",
    "input_shape = (32, 32, 3)\n",
    "num_classes = 10\n",
    "name = 1\n",
    "\n",
    "input_tensor = Input(shape=input_shape, name='input')\n",
    "net = input_tensor\n",
    "\n",
    "for x in VGG13:\n",
    "    if x == 'M':\n",
    "        net = MaxPooling2D(pool_size=(2, 2), strides=(2, 2), name='pool'+str(name))(net)\n",
    "        name += 1\n",
    "    else:\n",
    "        net = ZeroPadding2D(padding=(1, 1), name='zero'+str(name))(net)\n",
    "        net = Conv2D(64, (3, 3), padding='same', name='conv'+str(name))(net)\n",
    "        net = BatchNormalization(name='norm'+str(name))(net)\n",
    "        net = Activation('relu', name='acti'+str(name))(net)\n",
    "        name += 1\n",
    "        \n",
    "net = AveragePooling2D(pool_size=(1, 1), strides=(1,1), padding='same', name='avepool')(net)\n",
    "net = Flatten(name='flatten')(net)\n",
    "net = Dense(512, name='dense')(net)\n",
    "prediction = Dense(num_classes, name='prediction')(net)\n",
    "confidence = Dense(1, name='confidence')(net)\n",
    "\n",
    "model = Model(input_tensor, (prediction, confidence))"
   ]
  },
  {
   "cell_type": "code",
   "execution_count": 11,
   "metadata": {},
   "outputs": [],
   "source": [
    "from keras.datasets import cifar10\n",
    "(x_train, y_train), (x_test, y_test) = cifar10.load_data()"
   ]
  },
  {
   "cell_type": "code",
   "execution_count": 12,
   "metadata": {},
   "outputs": [],
   "source": [
    "def preprocess(images, length, train=True):\n",
    "    \n",
    "    # Normalize\n",
    "    mean = [125.3, 123.0, 113.9]\n",
    "    std = [63.0, 62.1, 66.7]\n",
    "    images = ((images - mean) / std)\n",
    "    \n",
    "    # Cutout\n",
    "    if train:\n",
    "        h = images[0].shape[0]\n",
    "        w = images[0].shape[1]\n",
    "        mask = np.ones((h, w), np.float32)\n",
    "        y = np.random.randint(h)\n",
    "        x = np.random.randint(w)\n",
    "        y1 = int(np.clip(y - length / 2, 0, h))\n",
    "        y2 = int(np.clip(y + length / 2, 0, h))\n",
    "        x1 = int(np.clip(x - length / 2, 0, w))\n",
    "        x2 = int(np.clip(x + length / 2, 0, w))\n",
    "        mask[y1: y2, x1: x2] = 0.\n",
    "        tensor = np.append(mask, mask)\n",
    "        tensor = np.append(tensor, mask)\n",
    "        tensor = tensor.reshape((32, 32, 3))\n",
    "        images = images * tensor\n",
    "        \n",
    "    return images"
   ]
  },
  {
   "cell_type": "code",
   "execution_count": 14,
   "metadata": {},
   "outputs": [],
   "source": [
    "images = preprocess(x_train, cutout, True)\n",
    "x_test = preprocess(x_test, cutout, False)"
   ]
  },
  {
   "cell_type": "code",
   "execution_count": 15,
   "metadata": {},
   "outputs": [],
   "source": [
    "labels = keras.utils.to_categorical(y_train, num_classes=num_classes)\n",
    "y_test = keras.utils.to_categorical(y_test, num_classes=num_classes)"
   ]
  },
  {
   "cell_type": "code",
   "execution_count": 16,
   "metadata": {},
   "outputs": [],
   "source": [
    "images = images[:batch_size]\n",
    "labels = labels[:batch_size]"
   ]
  },
  {
   "cell_type": "code",
   "execution_count": 22,
   "metadata": {},
   "outputs": [
    {
     "name": "stdout",
     "output_type": "stream",
     "text": [
      "\r",
      "128/128 [==============================] - 0s 113us/step\n"
     ]
    }
   ],
   "source": [
    "y_pred = model.predict(images, batch_size=batch_size, verbose=1)"
   ]
  },
  {
   "cell_type": "code",
   "execution_count": 41,
   "metadata": {},
   "outputs": [],
   "source": [
    "import tensorflow as tf"
   ]
  },
  {
   "cell_type": "code",
   "execution_count": 46,
   "metadata": {},
   "outputs": [
    {
     "data": {
      "text/plain": [
       "<tf.Variable 'Variable_4:0' shape=(128, 10) dtype=float32_ref>"
      ]
     },
     "execution_count": 46,
     "metadata": {},
     "output_type": "execute_result"
    }
   ],
   "source": [
    "tf.Variable(y_pred[0])"
   ]
  },
  {
   "cell_type": "code",
   "execution_count": 23,
   "metadata": {},
   "outputs": [],
   "source": [
    "prediction = K.variable(y_pred[0])\n",
    "confidence = K.variable(y_pred[1])"
   ]
  },
  {
   "cell_type": "code",
   "execution_count": 26,
   "metadata": {},
   "outputs": [],
   "source": [
    "# clipメソッドでインプットを範囲内に収める\n",
    "eps = 1e-12\n",
    "pred_original = K.clip(prediction, 0. + eps, 1. - eps)\n",
    "confidence = K.clip(confidence, 0. + eps, 1. - eps)"
   ]
  },
  {
   "cell_type": "code",
   "execution_count": 29,
   "metadata": {},
   "outputs": [],
   "source": [
    "# 予測値の補正を行う（ヒント部分）\n",
    "# Randomly set half of the confidences to 1 (i.e. no hints)\n",
    "b = K.variable(np.random.randint(0,2,confidence.shape))"
   ]
  },
  {
   "cell_type": "code",
   "execution_count": 31,
   "metadata": {},
   "outputs": [],
   "source": [
    "# confを設定\n",
    "conf = confidence * b + (1 - b)"
   ]
  },
  {
   "cell_type": "code",
   "execution_count": 39,
   "metadata": {},
   "outputs": [],
   "source": [
    "origin_tensor = K.variable(K.get_value(conf))"
   ]
  },
  {
   "cell_type": "code",
   "execution_count": 40,
   "metadata": {},
   "outputs": [
    {
     "data": {
      "text/plain": [
       "tensorflow.python.ops.variables.Variable"
      ]
     },
     "execution_count": 40,
     "metadata": {},
     "output_type": "execute_result"
    }
   ],
   "source": [
    "type(origin_tensor)"
   ]
  },
  {
   "cell_type": "code",
   "execution_count": null,
   "metadata": {},
   "outputs": [],
   "source": []
  }
 ],
 "metadata": {
  "kernelspec": {
   "display_name": "Python 3",
   "language": "python",
   "name": "python3"
  },
  "language_info": {
   "codemirror_mode": {
    "name": "ipython",
    "version": 3
   },
   "file_extension": ".py",
   "mimetype": "text/x-python",
   "name": "python",
   "nbconvert_exporter": "python",
   "pygments_lexer": "ipython3",
   "version": "3.6.4"
  }
 },
 "nbformat": 4,
 "nbformat_minor": 2
}
