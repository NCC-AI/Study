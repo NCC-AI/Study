{
 "cells": [
  {
   "cell_type": "code",
   "execution_count": 15,
   "metadata": {},
   "outputs": [],
   "source": [
    "import numpy as np\n",
    "import matplotlib\n",
    "import matplotlib.pyplot as plt\n",
    "import seaborn as sns\n",
    "from keras.models import Model, Sequential\n",
    "from keras.layers import Activation, Dense,Flatten, Dropout, Input, Concatenate\n",
    "from keras.layers import MaxPooling2D, Conv2D, AveragePooling2D, ZeroPadding2D\n",
    "from keras.layers.normalization import BatchNormalization\n",
    "import keras.backend as K\n",
    "import keras\n",
    "from keras.losses import categorical_crossentropy\n",
    "import tensorflow as tf\n",
    "from keras.preprocessing.image import ImageDataGenerator"
   ]
  },
  {
   "cell_type": "code",
   "execution_count": 16,
   "metadata": {},
   "outputs": [],
   "source": [
    "lmbda = 0.1\n",
    "batch_size = 16 # ネットワークを軽くするか、バッチサイズを減らすしかないらしい\n",
    "epochs = 3\n",
    "seed = 0\n",
    "learning_rate = 0.1\n",
    "cutout = 16\n",
    "budget = 0.3\n",
    "\n",
    "np.random.seed(seed)\n",
    "tf.set_random_seed(seed)"
   ]
  },
  {
   "cell_type": "markdown",
   "metadata": {},
   "source": [
    "## model"
   ]
  },
  {
   "cell_type": "code",
   "execution_count": 17,
   "metadata": {
    "scrolled": false
   },
   "outputs": [],
   "source": [
    "VGG13 = [64, 64, 'M', 128, 128, 'M', 256, 256, 'M', 512, 512, 'M', 512, 512, 'M']\n",
    "\n",
    "input_shape = (32, 32, 3)\n",
    "num_classes = 10\n",
    "name = 1\n",
    "\n",
    "input_tensor = Input(shape=input_shape, name='inputs')\n",
    "net = input_tensor\n",
    "\n",
    "for x in VGG13:\n",
    "    if x == 'M':\n",
    "        net = MaxPooling2D(pool_size=(2, 2), strides=(2, 2), name='pool'+str(name))(net)\n",
    "        name += 1\n",
    "    else:\n",
    "        net = Conv2D(x, (3, 3), padding='same', name='conv'+str(name))(net)\n",
    "        net = BatchNormalization(name='norm'+str(name))(net)\n",
    "        net = Activation('relu', name='acti'+str(name))(net)\n",
    "        name += 1\n",
    "        \n",
    "net = AveragePooling2D(pool_size=(1, 1), strides=(1,1), padding='same', name='avepool')(net)\n",
    "net = Flatten(name='flatten')(net)\n",
    "classifier = Dense(num_classes, activation='softmax', name='classifier')(net)\n",
    "confidence = Dense(1, activation='sigmoid',name='confidence')(net)\n",
    "prediction = keras.layers.concatenate([classifier, confidence], axis=1, name='prediction')\n",
    "\n",
    "model = Model(input_tensor, prediction)"
   ]
  },
  {
   "cell_type": "markdown",
   "metadata": {},
   "source": [
    "## preprocess images"
   ]
  },
  {
   "cell_type": "code",
   "execution_count": 18,
   "metadata": {},
   "outputs": [],
   "source": [
    "def preprocess(images, length, train=True):\n",
    "    \n",
    "    # Normalize\n",
    "    mean = [x / 255.0 for x in [125.3, 123.0, 113.9]]\n",
    "    std = [x / 255.0 for x in [63.0, 62.1, 66.7]]\n",
    "    images = ((images - mean) / std)\n",
    "    \n",
    "    # Cutout\n",
    "    if train:\n",
    "        if np.random.choice([0, 1]):\n",
    "            h = images[0].shape[0]\n",
    "            w = images[0].shape[1]\n",
    "            mask = np.ones((h, w), dtype='float32')\n",
    "            y = np.random.randint(h)\n",
    "            x = np.random.randint(w)\n",
    "            y1 = int(np.clip(y - length / 2, 0, h))\n",
    "            y2 = int(np.clip(y + length / 2, 0, h))\n",
    "            x1 = int(np.clip(x - length / 2, 0, w))\n",
    "            x2 = int(np.clip(x + length / 2, 0, w))\n",
    "            mask[y1: y2, x1: x2] = 0.\n",
    "            mask = mask[:, :, np.newaxis]\n",
    "            mask = np.tile(mask, 3)\n",
    "            images = images * mask\n",
    "        \n",
    "    return images"
   ]
  },
  {
   "cell_type": "code",
   "execution_count": 19,
   "metadata": {},
   "outputs": [],
   "source": [
    "def add_label(labels):\n",
    "    conf_label = np.ones((labels.shape[0], 1))\n",
    "    new_labels = np.hstack((labels, conf_label))\n",
    "    return new_labels"
   ]
  },
  {
   "cell_type": "markdown",
   "metadata": {},
   "source": [
    " ## dataset"
   ]
  },
  {
   "cell_type": "code",
   "execution_count": 20,
   "metadata": {},
   "outputs": [],
   "source": [
    "from keras.datasets import cifar10\n",
    "(x_train, y_train), (x_test, y_test) = cifar10.load_data()"
   ]
  },
  {
   "cell_type": "code",
   "execution_count": 21,
   "metadata": {},
   "outputs": [],
   "source": [
    "x_train = x_train.astype('float32')\n",
    "x_test = x_test.astype('float32')\n",
    "x_train /= 255.0\n",
    "x_test /= 255.0"
   ]
  },
  {
   "cell_type": "code",
   "execution_count": 22,
   "metadata": {},
   "outputs": [],
   "source": [
    "x_train = preprocess(x_train, cutout, True)\n",
    "x_test = preprocess(x_test, cutout, False)\n",
    "y_train = add_label(keras.utils.to_categorical(y_train, num_classes=num_classes)) # (50000, 11)\n",
    "y_test = add_label(keras.utils.to_categorical(y_test, num_classes=num_classes)) # (10000, 11)"
   ]
  },
  {
   "cell_type": "markdown",
   "metadata": {},
   "source": [
    "## loss"
   ]
  },
  {
   "cell_type": "code",
   "execution_count": 23,
   "metadata": {},
   "outputs": [],
   "source": [
    "def compute_loss(y_true, y_pred):\n",
    "    # 変数定義\n",
    "    global lmbda\n",
    "    # 順伝播の出力\n",
    "    prediction = tf.slice(y_pred, [0, 0], [batch_size, num_classes])\n",
    "    confidence = tf.slice(y_pred, [0, num_classes], [batch_size, 1])\n",
    "    \n",
    "    # clipメソッドでインプットを範囲内に収める\n",
    "    eps = 1e-12\n",
    "    pred_original = tf.clip_by_value(prediction, 0. + eps, 1. - eps)\n",
    "    confidence = tf.clip_by_value(confidence, 0. + eps, 1. - eps)\n",
    "    \n",
    "    # 予測値の補正を行う（ヒント部分）\n",
    "    # Randomly set half of the confidences to 1 (i.e. no hints)\n",
    "    means = tf.constant([.5])\n",
    "    b = tf.where(tf.random_uniform([tf.shape(confidence)[0], 1], minval=0, maxval=1) - means < 0,  \n",
    "                 tf.ones([tf.shape(confidence)[0], 1]), \n",
    "                 tf.zeros([tf.shape(confidence)[0], 1]))\n",
    "    \n",
    "    # confを設定\n",
    "    conf = tf.add(confidence * b, 1.0 - b)\n",
    "    conf = tf.tile(conf, [1, 10])\n",
    "    \n",
    "    # 予測を小さくして、正解ラベルの分布を足す\n",
    "    pred_new = tf.add(pred_original * conf, y_true[:, :-1] * (1 - conf))\n",
    "    pred_new = tf.log(pred_new)\n",
    "    \n",
    "    # 損失計算\n",
    "    xentropy_loss = tf.reduce_mean(-tf.reduce_sum(y_true[:, :-1] * pred_new, reduction_indices=[1]))\n",
    "    confidence_loss = tf.reduce_mean(-tf.log(confidence))\n",
    "\n",
    "    # 損失を定義\n",
    "    total_loss = tf.add(xentropy_loss, (lmbda * confidence_loss))\n",
    "    \n",
    "    # lambdaを更新\n",
    "    lm_val = tf.cond(budget > confidence_loss, lambda: 1.01, lambda: 0.99)\n",
    "    lmbda = lmbda / lm_val\n",
    "    \n",
    "    return total_loss"
   ]
  },
  {
   "cell_type": "markdown",
   "metadata": {},
   "source": [
    "## Plot histogram"
   ]
  },
  {
   "cell_type": "code",
   "execution_count": 24,
   "metadata": {},
   "outputs": [],
   "source": [
    "def plot_histograms(corr, conf, bins=50, norm_hist=True):\n",
    "    plt.figure(figsize=(6, 4))\n",
    "    sns.distplot(conf[corr], kde=False, bins=bins, norm_hist=norm_hist, label='Correct')\n",
    "    sns.distplot(conf[np.invert(corr)], kde=False, bins=bins, norm_hist=norm_hist, label='Incorrect')\n",
    "    plt.xlabel('Confidence')\n",
    "    plt.ylabel('Density')\n",
    "    plt.legend()\n",
    "    plt.savefig( 'logs/foo.png' )"
   ]
  },
  {
   "cell_type": "markdown",
   "metadata": {},
   "source": [
    "## Custom callbacks\n",
    "https://stackoverflow.com/questions/47079111/create-keras-callback-to-save-model-predictions-and-targets-for-each-batch-durin"
   ]
  },
  {
   "cell_type": "code",
   "execution_count": 25,
   "metadata": {},
   "outputs": [],
   "source": [
    "class PlotHistograms(keras.callbacks.Callback):\n",
    "    def __init__(self, dataset, **kwargs):\n",
    "        super().__init__(**kwargs)\n",
    "        self.dataset = dataset\n",
    "        self.classify = []\n",
    "        self.targets = []\n",
    "\n",
    "    def on_epoch_end(self, epoch, logs={}):\n",
    "        x_data, y_data = self.dataset\n",
    "        outputs = self.model.predict(x_data, verbose=1)\n",
    "        \n",
    "        self.classify.append(outputs[:, :-1])\n",
    "        self.targets.append(y_data[:, :-1])\n",
    "        \n",
    "        pred_label = np.array([x.argmax() for x in self.classify[epoch]])\n",
    "        true_label = np.array([x.argmax() for x in self.targets[epoch]])\n",
    "        corr = pred_label == true_label\n",
    "        conf = outputs[:, -1]\n",
    "        \n",
    "        bins=50\n",
    "        norm_hist=True\n",
    "        plt.figure(figsize=(6, 4))\n",
    "        sns.distplot(conf[corr], kde=False, bins=bins, norm_hist=norm_hist, label='Correct')\n",
    "        sns.distplot(conf[np.invert(corr)], kde=False, bins=bins, norm_hist=norm_hist, label='Incorrect')\n",
    "        plt.xlabel('Confidence')\n",
    "        plt.ylabel('Density')\n",
    "        plt.legend()\n",
    "        plt.savefig( 'logs/%03d.png' % epoch )"
   ]
  },
  {
   "cell_type": "markdown",
   "metadata": {},
   "source": [
    "## optimizer, scheduler"
   ]
  },
  {
   "cell_type": "code",
   "execution_count": 26,
   "metadata": {},
   "outputs": [],
   "source": [
    "optim = keras.optimizers.SGD(lr=learning_rate, momentum=0.9, decay=5e-4, nesterov=True)\n",
    "\n",
    "def schedule(epoch, decay=0.2):\n",
    "    if epoch in [60, 120, 160]:\n",
    "        return learning_rate * decay\n",
    "    else:\n",
    "        return learning_rate\n",
    "\n",
    "cbk = PlotHistograms((x_test, y_test))\n",
    "callbacks = [keras.callbacks.LearningRateScheduler(schedule), cbk]"
   ]
  },
  {
   "cell_type": "code",
   "execution_count": 27,
   "metadata": {},
   "outputs": [],
   "source": [
    "model.compile(optimizer=optim, loss=compute_loss)"
   ]
  },
  {
   "cell_type": "markdown",
   "metadata": {},
   "source": [
    "## Train"
   ]
  },
  {
   "cell_type": "code",
   "execution_count": 28,
   "metadata": {
    "scrolled": false
   },
   "outputs": [
    {
     "name": "stdout",
     "output_type": "stream",
     "text": [
      "Epoch 1/3\n",
      "50000/50000 [==============================] - 54s 1ms/step - loss: 1.6844\n",
      "10000/10000 [==============================] - 2s 216us/step\n",
      "Epoch 2/3\n",
      "50000/50000 [==============================] - 52s 1ms/step - loss: 1.3144\n",
      "10000/10000 [==============================] - 2s 198us/step\n",
      "Epoch 3/3\n",
      "50000/50000 [==============================] - 52s 1ms/step - loss: 1.2274\n",
      "10000/10000 [==============================] - 2s 202us/step\n"
     ]
    },
    {
     "data": {
      "image/png": "[encoded data removed]",
      "text/plain": [
       "<matplotlib.figure.Figure at 0x7f832981e390>"
      ]
     },
     "metadata": {},
     "output_type": "display_data"
    },
    {
     "data": {
      "image/png": "[encoded data removed]",
      "text/plain": [
       "<matplotlib.figure.Figure at 0x7f83297a4e10>"
      ]
     },
     "metadata": {},
     "output_type": "display_data"
    },
    {
     "data": {
      "image/png": "[encoded data removed]",
      "text/plain": [
       "<matplotlib.figure.Figure at 0x7f83297a4f28>"
      ]
     },
     "metadata": {},
     "output_type": "display_data"
    }
   ],
   "source": [
    "history = model.fit(x_train, y_train, \n",
    "                    batch_size=batch_size, \n",
    "                    epochs=epochs,\n",
    "                    verbose=1, \n",
    "                    callbacks=callbacks)\n",
    "                    #validation_data=(x_test, y_test))"
   ]
  },
  {
   "cell_type": "markdown",
   "metadata": {},
   "source": [
    "## evaluate"
   ]
  },
  {
   "cell_type": "code",
   "execution_count": 18,
   "metadata": {},
   "outputs": [],
   "source": [
    "from keras.models import load_model\n",
    "model.load_weights('logs/confidence_estimation.h5')"
   ]
  },
  {
   "cell_type": "code",
   "execution_count": 19,
   "metadata": {},
   "outputs": [],
   "source": [
    "from keras.datasets import cifar10\n",
    "(test_x, test_y), (_, _) = cifar10.load_data()"
   ]
  },
  {
   "cell_type": "code",
   "execution_count": 20,
   "metadata": {},
   "outputs": [],
   "source": [
    "ind_x = preprocess(test_x.copy(), cutout, True)\n",
    "ind_y = test_y.copy()\n",
    "ood_x = preprocess(test_x.copy(), cutout, False)\n",
    "ood_y = test_y.copy()"
   ]
  },
  {
   "cell_type": "code",
   "execution_count": 29,
   "metadata": {},
   "outputs": [],
   "source": [
    "ind_image = ind_x[1]\n",
    "ind_image = ind_image[np.newaxis, :, :, :]\n",
    "ood_image = ood_x[1]\n",
    "ood_image = ood_image[np.newaxis, :, :, :]"
   ]
  },
  {
   "cell_type": "code",
   "execution_count": 30,
   "metadata": {},
   "outputs": [
    {
     "name": "stdout",
     "output_type": "stream",
     "text": [
      "1/1 [==============================] - 0s 5ms/step\n",
      "1/1 [==============================] - 0s 5ms/step\n"
     ]
    }
   ],
   "source": [
    "ind_pred = model.predict(ind_image, batch_size=1, verbose=1)\n",
    "ood_pred = model.predict(ood_image, batch_size=1, verbose=1)"
   ]
  },
  {
   "cell_type": "code",
   "execution_count": 31,
   "metadata": {},
   "outputs": [],
   "source": [
    "ind_class = ind_pred[0, :-1].argmax()\n",
    "ind_label = ind_y[0]\n",
    "ind_conf = ind_pred[0, -1]\n",
    "\n",
    "ood_class = ood_pred[0, :-1].argmax()\n",
    "ood_label = ood_y[0]\n",
    "ood_conf = ood_pred[0, -1]"
   ]
  },
  {
   "cell_type": "code",
   "execution_count": 32,
   "metadata": {},
   "outputs": [
    {
     "name": "stdout",
     "output_type": "stream",
     "text": [
      "9 [6] 0.9999182\n",
      "9 [6] 0.99999964\n"
     ]
    }
   ],
   "source": [
    "print(ind_class, ind_label, ind_conf)\n",
    "print(ood_class, ood_label, ood_conf)"
   ]
  },
  {
   "cell_type": "markdown",
   "metadata": {},
   "source": [
    "## Display"
   ]
  },
  {
   "cell_type": "code",
   "execution_count": 20,
   "metadata": {},
   "outputs": [
    {
     "data": {
      "image/png": "[encoded data removed]"
     },
     "metadata": {},
     "output_type": "display_data"
    }
   ],
   "source": [
    "from IPython.display import Image, display_png\n",
    "display_png(Image('logs/052.png'))"
   ]
  },
  {
   "cell_type": "code",
   "execution_count": null,
   "metadata": {},
   "outputs": [],
   "source": []
  },
  {
   "cell_type": "code",
   "execution_count": null,
   "metadata": {},
   "outputs": [],
   "source": []
  }
 ],
 "metadata": {
  "kernelspec": {
   "display_name": "Python 3",
   "language": "python",
   "name": "python3"
  },
  "language_info": {
   "codemirror_mode": {
    "name": "ipython",
    "version": 3
   },
   "file_extension": ".py",
   "mimetype": "text/x-python",
   "name": "python",
   "nbconvert_exporter": "python",
   "pygments_lexer": "ipython3",
   "version": "3.6.4"
  }
 },
 "nbformat": 4,
 "nbformat_minor": 2
}
