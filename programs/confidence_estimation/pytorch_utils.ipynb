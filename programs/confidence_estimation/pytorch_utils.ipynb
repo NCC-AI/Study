{
 "cells": [
  {
   "cell_type": "code",
   "execution_count": 1,
   "metadata": {},
   "outputs": [],
   "source": [
    "import pdb\n",
    "import argparse\n",
    "import numpy as np\n",
    "from tqdm import tqdm\n",
    "from sklearn import metrics\n",
    "import matplotlib.pyplot as plt\n",
    "\n",
    "import torch\n",
    "import torch.nn as nn\n",
    "import torch.nn.functional as F\n",
    "import torch.backends.cudnn as cudnn\n",
    "from torchvision import datasets, transforms\n",
    "from torch.utils.data import Dataset\n",
    "from torchvision.utils import make_grid\n",
    "from torch.autograd import Variable\n",
    "\n",
    "import seaborn as sns\n",
    "\n",
    "from models.vgg import VGG\n",
    "from models.densenet import DenseNet3\n",
    "from models.wideresnet import WideResNet\n",
    "from utils.ood_metrics import tpr95, detection\n",
    "from utils.datasets import GaussianNoise, UniformNoise"
   ]
  },
  {
   "cell_type": "markdown",
   "metadata": {},
   "source": [
    "## ハイパーパラメータの設定"
   ]
  },
  {
   "cell_type": "code",
   "execution_count": 2,
   "metadata": {},
   "outputs": [],
   "source": [
    "'''\n",
    "ind_dataset = cifar10\n",
    "ood_dataset = tinyImageNet_resize\n",
    "model = vgg13\n",
    "process = confidence\n",
    "'''\n",
    "batch_size =128\n",
    "T = 1000.\n",
    "epsilon = 0.001\n",
    "filename = 'checkpoints/cifar10_vgg13_budget_0.3_seed_0'\n",
    "validation = False\n",
    "cudnn.benchmark = True  # Should make training should go faster for large models"
   ]
  },
  {
   "cell_type": "markdown",
   "metadata": {},
   "source": [
    "## 正規化の前処理"
   ]
  },
  {
   "cell_type": "code",
   "execution_count": 3,
   "metadata": {},
   "outputs": [],
   "source": [
    "normalize = transforms.Normalize(mean=[x / 255.0 for x in [125.3, 123.0, 113.9]], std=[x / 255.0 for x in [63.0, 62.1, 66.7]])\n",
    "transform = transforms.Compose([transforms.ToTensor(), normalize])"
   ]
  },
  {
   "cell_type": "markdown",
   "metadata": {},
   "source": [
    "## in-distributionはCIFAR10<br>out-of-distributionはImagenet_resize"
   ]
  },
  {
   "cell_type": "code",
   "execution_count": 4,
   "metadata": {},
   "outputs": [
    {
     "name": "stdout",
     "output_type": "stream",
     "text": [
      "Files already downloaded and verified\n"
     ]
    }
   ],
   "source": [
    "num_classes = 10\n",
    "ind_dataset = datasets.CIFAR10(root='data/', train=False, transform=transform, download=True)\n",
    "ood_dataset = datasets.ImageFolder(root='data/Imagenet_resize', transform=transform)"
   ]
  },
  {
   "cell_type": "code",
   "execution_count": 5,
   "metadata": {},
   "outputs": [],
   "source": [
    "test = datasets.ImageFolder(root='data/Imagenet_resize', transform=transforms.Compose([transforms.ToTensor()]))\n",
    "img, lab = test[33]"
   ]
  },
  {
   "cell_type": "markdown",
   "metadata": {},
   "source": [
    "## Imagenet_resizeの画像を見てみる"
   ]
  },
  {
   "cell_type": "code",
   "execution_count": 6,
   "metadata": {},
   "outputs": [
    {
     "data": {
      "text/plain": [
       "(-0.5, 31.5, 31.5, -0.5)"
      ]
     },
     "execution_count": 6,
     "metadata": {},
     "output_type": "execute_result"
    },
    {
     "data": {
      "image/png": "[encoded data removed]",
      "text/plain": [
       "<matplotlib.figure.Figure at 0x7f997a5ec710>"
      ]
     },
     "metadata": {},
     "output_type": "display_data"
    }
   ],
   "source": [
    "%matplotlib inline\n",
    "\n",
    "def imshow(img):\n",
    "    # unnormalize [-1, 1] => [0, 1]\n",
    "    #img = img / 2 + 0.5\n",
    "    npimg = img.numpy()\n",
    "    # [c, h, w] => [h, w, c]\n",
    "    plt.imshow(np.transpose(npimg, (1, 2, 0)))\n",
    "\n",
    "plt.figure(figsize=(3,3))\n",
    "imshow(make_grid(img))\n",
    "plt.axis('off')"
   ]
  },
  {
   "cell_type": "markdown",
   "metadata": {},
   "source": [
    "## データローダー"
   ]
  },
  {
   "cell_type": "code",
   "execution_count": 7,
   "metadata": {},
   "outputs": [],
   "source": [
    "ind_loader = torch.utils.data.DataLoader(\n",
    "                                         dataset=ind_dataset,\n",
    "                                         batch_size=batch_size,\n",
    "                                         shuffle=False,\n",
    "                                         pin_memory=True,\n",
    "                                         num_workers=2)\n",
    "\n",
    "ood_loader = torch.utils.data.DataLoader(\n",
    "                                         dataset=ood_dataset,\n",
    "                                         batch_size=batch_size,\n",
    "                                         shuffle=False,\n",
    "                                         pin_memory=True,\n",
    "                                         num_workers=2)\n",
    "\n",
    "# Use remaining samples for test evaluation\n",
    "ood_loader.dataset.imgs = ood_loader.dataset.imgs[1000:]\n",
    "ood_loader.dataset.__len__ = len(ood_loader.dataset.imgs)"
   ]
  },
  {
   "cell_type": "markdown",
   "metadata": {},
   "source": [
    "## モデルはVGG13＋学習した重みをロード"
   ]
  },
  {
   "cell_type": "code",
   "execution_count": 8,
   "metadata": {
    "collapsed": true
   },
   "outputs": [
    {
     "data": {
      "text/plain": [
       "VGG(\n",
       "  (features): Sequential(\n",
       "    (0): Conv2d(3, 64, kernel_size=(3, 3), stride=(1, 1), padding=(1, 1))\n",
       "    (1): BatchNorm2d(64, eps=1e-05, momentum=0.1, affine=True, track_running_stats=True)\n",
       "    (2): ReLU(inplace)\n",
       "    (3): Conv2d(64, 64, kernel_size=(3, 3), stride=(1, 1), padding=(1, 1))\n",
       "    (4): BatchNorm2d(64, eps=1e-05, momentum=0.1, affine=True, track_running_stats=True)\n",
       "    (5): ReLU(inplace)\n",
       "    (6): MaxPool2d(kernel_size=2, stride=2, padding=0, dilation=1, ceil_mode=False)\n",
       "    (7): Conv2d(64, 128, kernel_size=(3, 3), stride=(1, 1), padding=(1, 1))\n",
       "    (8): BatchNorm2d(128, eps=1e-05, momentum=0.1, affine=True, track_running_stats=True)\n",
       "    (9): ReLU(inplace)\n",
       "    (10): Conv2d(128, 128, kernel_size=(3, 3), stride=(1, 1), padding=(1, 1))\n",
       "    (11): BatchNorm2d(128, eps=1e-05, momentum=0.1, affine=True, track_running_stats=True)\n",
       "    (12): ReLU(inplace)\n",
       "    (13): MaxPool2d(kernel_size=2, stride=2, padding=0, dilation=1, ceil_mode=False)\n",
       "    (14): Conv2d(128, 256, kernel_size=(3, 3), stride=(1, 1), padding=(1, 1))\n",
       "    (15): BatchNorm2d(256, eps=1e-05, momentum=0.1, affine=True, track_running_stats=True)\n",
       "    (16): ReLU(inplace)\n",
       "    (17): Conv2d(256, 256, kernel_size=(3, 3), stride=(1, 1), padding=(1, 1))\n",
       "    (18): BatchNorm2d(256, eps=1e-05, momentum=0.1, affine=True, track_running_stats=True)\n",
       "    (19): ReLU(inplace)\n",
       "    (20): MaxPool2d(kernel_size=2, stride=2, padding=0, dilation=1, ceil_mode=False)\n",
       "    (21): Conv2d(256, 512, kernel_size=(3, 3), stride=(1, 1), padding=(1, 1))\n",
       "    (22): BatchNorm2d(512, eps=1e-05, momentum=0.1, affine=True, track_running_stats=True)\n",
       "    (23): ReLU(inplace)\n",
       "    (24): Conv2d(512, 512, kernel_size=(3, 3), stride=(1, 1), padding=(1, 1))\n",
       "    (25): BatchNorm2d(512, eps=1e-05, momentum=0.1, affine=True, track_running_stats=True)\n",
       "    (26): ReLU(inplace)\n",
       "    (27): MaxPool2d(kernel_size=2, stride=2, padding=0, dilation=1, ceil_mode=False)\n",
       "    (28): Conv2d(512, 512, kernel_size=(3, 3), stride=(1, 1), padding=(1, 1))\n",
       "    (29): BatchNorm2d(512, eps=1e-05, momentum=0.1, affine=True, track_running_stats=True)\n",
       "    (30): ReLU(inplace)\n",
       "    (31): Conv2d(512, 512, kernel_size=(3, 3), stride=(1, 1), padding=(1, 1))\n",
       "    (32): BatchNorm2d(512, eps=1e-05, momentum=0.1, affine=True, track_running_stats=True)\n",
       "    (33): ReLU(inplace)\n",
       "    (34): MaxPool2d(kernel_size=2, stride=2, padding=0, dilation=1, ceil_mode=False)\n",
       "    (35): AvgPool2d(kernel_size=1, stride=1, padding=0)\n",
       "  )\n",
       "  (classifier): Linear(in_features=512, out_features=10, bias=True)\n",
       "  (confidence): Linear(in_features=512, out_features=1, bias=True)\n",
       ")"
      ]
     },
     "execution_count": 8,
     "metadata": {},
     "output_type": "execute_result"
    }
   ],
   "source": [
    "cnn = VGG(vgg_name='VGG13', num_classes=num_classes).cuda()\n",
    "model_dict = cnn.state_dict()\n",
    "pretrained_dict = torch.load(filename + '.pt')\n",
    "cnn.load_state_dict(pretrained_dict)\n",
    "cnn = cnn.cuda()\n",
    "cnn.eval()"
   ]
  },
  {
   "cell_type": "code",
   "execution_count": 24,
   "metadata": {},
   "outputs": [],
   "source": [
    "data_iter = iter(ind_loader)\n",
    "images, labels = data_iter.next()"
   ]
  },
  {
   "cell_type": "code",
   "execution_count": 25,
   "metadata": {},
   "outputs": [],
   "source": [
    "images = Variable(images, requires_grad=True).cuda()\n",
    "prediction, confidence = cnn(images)"
   ]
  },
  {
   "cell_type": "code",
   "execution_count": 26,
   "metadata": {},
   "outputs": [
    {
     "data": {
      "text/plain": [
       "torch.Size([128, 1])"
      ]
     },
     "execution_count": 26,
     "metadata": {},
     "output_type": "execute_result"
    }
   ],
   "source": [
    "confidence.shape"
   ]
  },
  {
   "cell_type": "code",
   "execution_count": 27,
   "metadata": {},
   "outputs": [
    {
     "name": "stderr",
     "output_type": "stream",
     "text": [
      "/home/takano/.pyenv/versions/anaconda3-5.1.0/lib/python3.6/site-packages/torch/nn/functional.py:1006: UserWarning: nn.functional.sigmoid is deprecated. Use torch.sigmoid instead.\n",
      "  warnings.warn(\"nn.functional.sigmoid is deprecated. Use torch.sigmoid instead.\")\n"
     ]
    }
   ],
   "source": [
    "# 最終層の活性化\n",
    "pred_original = F.softmax(prediction, dim=-1)\n",
    "confidence = F.sigmoid(confidence)"
   ]
  },
  {
   "cell_type": "code",
   "execution_count": 28,
   "metadata": {
    "collapsed": true
   },
   "outputs": [
    {
     "data": {
      "text/plain": [
       "tensor([[0.8413],\n",
       "        [0.7855],\n",
       "        [0.4223],\n",
       "        [0.3229],\n",
       "        [0.9504],\n",
       "        [0.7313],\n",
       "        [0.7509],\n",
       "        [0.6937],\n",
       "        [0.8718],\n",
       "        [0.8501],\n",
       "        [0.8419],\n",
       "        [0.9657],\n",
       "        [0.7512],\n",
       "        [0.9822],\n",
       "        [0.9834],\n",
       "        [0.2472],\n",
       "        [0.9865],\n",
       "        [0.7856],\n",
       "        [0.9376],\n",
       "        [0.8467],\n",
       "        [0.1475],\n",
       "        [0.2287],\n",
       "        [0.7625],\n",
       "        [0.9601],\n",
       "        [0.4784],\n",
       "        [0.6039],\n",
       "        [0.6829],\n",
       "        [0.9738],\n",
       "        [0.9062],\n",
       "        [0.9366],\n",
       "        [0.8901],\n",
       "        [0.9389],\n",
       "        [0.3777],\n",
       "        [0.7024],\n",
       "        [0.9798],\n",
       "        [0.2202],\n",
       "        [0.5849],\n",
       "        [0.7535],\n",
       "        [0.9286],\n",
       "        [0.9945],\n",
       "        [0.9719],\n",
       "        [0.9069],\n",
       "        [0.2055],\n",
       "        [0.9007],\n",
       "        [0.9588],\n",
       "        [0.9802],\n",
       "        [0.3751],\n",
       "        [0.1861],\n",
       "        [0.9289],\n",
       "        [0.4453],\n",
       "        [0.9247],\n",
       "        [0.8737],\n",
       "        [0.2837],\n",
       "        [0.5722],\n",
       "        [0.9119],\n",
       "        [0.9708],\n",
       "        [0.7056],\n",
       "        [0.4098],\n",
       "        [0.2590],\n",
       "        [0.2389],\n",
       "        [0.9773],\n",
       "        [0.4460],\n",
       "        [0.7240],\n",
       "        [0.2333],\n",
       "        [0.7029],\n",
       "        [0.6119],\n",
       "        [0.8774],\n",
       "        [0.9431],\n",
       "        [0.4124],\n",
       "        [0.4886],\n",
       "        [0.1877],\n",
       "        [0.4452],\n",
       "        [0.6262],\n",
       "        [0.9823],\n",
       "        [0.4635],\n",
       "        [0.9492],\n",
       "        [0.9028],\n",
       "        [0.9343],\n",
       "        [0.1275],\n",
       "        [0.8636],\n",
       "        [0.9394],\n",
       "        [0.5707],\n",
       "        [0.9896],\n",
       "        [0.8516],\n",
       "        [0.6589],\n",
       "        [0.1427],\n",
       "        [0.3436],\n",
       "        [0.4723],\n",
       "        [0.9791],\n",
       "        [0.8443],\n",
       "        [0.9746],\n",
       "        [0.3082],\n",
       "        [0.9398],\n",
       "        [0.9888],\n",
       "        [0.7867],\n",
       "        [0.5611],\n",
       "        [0.6133],\n",
       "        [0.2216],\n",
       "        [0.7310],\n",
       "        [0.8226],\n",
       "        [0.4127],\n",
       "        [0.7344],\n",
       "        [0.9775],\n",
       "        [0.8927],\n",
       "        [0.9902],\n",
       "        [0.9819],\n",
       "        [0.7064],\n",
       "        [0.9727],\n",
       "        [0.7107],\n",
       "        [0.9194],\n",
       "        [0.5488],\n",
       "        [0.9287],\n",
       "        [0.1849],\n",
       "        [0.9170],\n",
       "        [0.8172],\n",
       "        [0.4231],\n",
       "        [0.8697],\n",
       "        [0.3881],\n",
       "        [0.2399],\n",
       "        [0.4931],\n",
       "        [0.8016],\n",
       "        [0.5586],\n",
       "        [0.9276],\n",
       "        [0.9831],\n",
       "        [0.7249],\n",
       "        [0.2405],\n",
       "        [0.4668],\n",
       "        [0.5413]], device='cuda:0', grad_fn=<SigmoidBackward>)"
      ]
     },
     "execution_count": 28,
     "metadata": {},
     "output_type": "execute_result"
    }
   ],
   "source": [
    "confidence"
   ]
  },
  {
   "cell_type": "code",
   "execution_count": 29,
   "metadata": {},
   "outputs": [],
   "source": [
    "# clampメソッドで数値を範囲内に収める\n",
    "eps = 1e-12\n",
    "pred_original = torch.clamp(pred_original, 0. + eps, 1. - eps)\n",
    "confidence = torch.clamp(confidence, 0. + eps, 1. - eps)"
   ]
  },
  {
   "cell_type": "code",
   "execution_count": 30,
   "metadata": {
    "collapsed": true
   },
   "outputs": [
    {
     "data": {
      "text/plain": [
       "tensor([[0.8413],\n",
       "        [0.7855],\n",
       "        [0.4223],\n",
       "        [0.3229],\n",
       "        [0.9504],\n",
       "        [0.7313],\n",
       "        [0.7509],\n",
       "        [0.6937],\n",
       "        [0.8718],\n",
       "        [0.8501],\n",
       "        [0.8419],\n",
       "        [0.9657],\n",
       "        [0.7512],\n",
       "        [0.9822],\n",
       "        [0.9834],\n",
       "        [0.2472],\n",
       "        [0.9865],\n",
       "        [0.7856],\n",
       "        [0.9376],\n",
       "        [0.8467],\n",
       "        [0.1475],\n",
       "        [0.2287],\n",
       "        [0.7625],\n",
       "        [0.9601],\n",
       "        [0.4784],\n",
       "        [0.6039],\n",
       "        [0.6829],\n",
       "        [0.9738],\n",
       "        [0.9062],\n",
       "        [0.9366],\n",
       "        [0.8901],\n",
       "        [0.9389],\n",
       "        [0.3777],\n",
       "        [0.7024],\n",
       "        [0.9798],\n",
       "        [0.2202],\n",
       "        [0.5849],\n",
       "        [0.7535],\n",
       "        [0.9286],\n",
       "        [0.9945],\n",
       "        [0.9719],\n",
       "        [0.9069],\n",
       "        [0.2055],\n",
       "        [0.9007],\n",
       "        [0.9588],\n",
       "        [0.9802],\n",
       "        [0.3751],\n",
       "        [0.1861],\n",
       "        [0.9289],\n",
       "        [0.4453],\n",
       "        [0.9247],\n",
       "        [0.8737],\n",
       "        [0.2837],\n",
       "        [0.5722],\n",
       "        [0.9119],\n",
       "        [0.9708],\n",
       "        [0.7056],\n",
       "        [0.4098],\n",
       "        [0.2590],\n",
       "        [0.2389],\n",
       "        [0.9773],\n",
       "        [0.4460],\n",
       "        [0.7240],\n",
       "        [0.2333],\n",
       "        [0.7029],\n",
       "        [0.6119],\n",
       "        [0.8774],\n",
       "        [0.9431],\n",
       "        [0.4124],\n",
       "        [0.4886],\n",
       "        [0.1877],\n",
       "        [0.4452],\n",
       "        [0.6262],\n",
       "        [0.9823],\n",
       "        [0.4635],\n",
       "        [0.9492],\n",
       "        [0.9028],\n",
       "        [0.9343],\n",
       "        [0.1275],\n",
       "        [0.8636],\n",
       "        [0.9394],\n",
       "        [0.5707],\n",
       "        [0.9896],\n",
       "        [0.8516],\n",
       "        [0.6589],\n",
       "        [0.1427],\n",
       "        [0.3436],\n",
       "        [0.4723],\n",
       "        [0.9791],\n",
       "        [0.8443],\n",
       "        [0.9746],\n",
       "        [0.3082],\n",
       "        [0.9398],\n",
       "        [0.9888],\n",
       "        [0.7867],\n",
       "        [0.5611],\n",
       "        [0.6133],\n",
       "        [0.2216],\n",
       "        [0.7310],\n",
       "        [0.8226],\n",
       "        [0.4127],\n",
       "        [0.7344],\n",
       "        [0.9775],\n",
       "        [0.8927],\n",
       "        [0.9902],\n",
       "        [0.9819],\n",
       "        [0.7064],\n",
       "        [0.9727],\n",
       "        [0.7107],\n",
       "        [0.9194],\n",
       "        [0.5488],\n",
       "        [0.9287],\n",
       "        [0.1849],\n",
       "        [0.9170],\n",
       "        [0.8172],\n",
       "        [0.4231],\n",
       "        [0.8697],\n",
       "        [0.3881],\n",
       "        [0.2399],\n",
       "        [0.4931],\n",
       "        [0.8016],\n",
       "        [0.5586],\n",
       "        [0.9276],\n",
       "        [0.9831],\n",
       "        [0.7249],\n",
       "        [0.2405],\n",
       "        [0.4668],\n",
       "        [0.5413]], device='cuda:0', grad_fn=<ClampBackward>)"
      ]
     },
     "execution_count": 30,
     "metadata": {},
     "output_type": "execute_result"
    }
   ],
   "source": [
    "confidence"
   ]
  },
  {
   "cell_type": "code",
   "execution_count": 36,
   "metadata": {},
   "outputs": [],
   "source": [
    "# 予測値の補正を行う（ヒント部分）\n",
    "# Randomly set half of the confidences to 1 (i.e. no hints)\n",
    "b = Variable(torch.bernoulli(torch.Tensor(confidence.size()).uniform_(0, 1))).cuda()"
   ]
  },
  {
   "cell_type": "code",
   "execution_count": 37,
   "metadata": {},
   "outputs": [],
   "source": [
    "conf = confidence * b + (1 - b)"
   ]
  },
  {
   "cell_type": "code",
   "execution_count": 41,
   "metadata": {},
   "outputs": [],
   "source": [
    "from utils.utils import encode_onehot\n",
    "labels = Variable(labels).cuda(async=True)\n",
    "labels_onehot = Variable(encode_onehot(labels, num_classes))\n",
    "# 予測を小さくして、正解ラベルの分布を足す\n",
    "pred_new = pred_original * conf.expand_as(pred_original) + labels_onehot * (1 - conf.expand_as(labels_onehot))\n",
    "pred_new = torch.log(pred_new)"
   ]
  },
  {
   "cell_type": "code",
   "execution_count": 45,
   "metadata": {},
   "outputs": [],
   "source": [
    "# 損失計算\n",
    "prediction_criterion = nn.NLLLoss().cuda()\n",
    "xentropy_loss = prediction_criterion(pred_new, labels)\n",
    "confidence_loss = torch.mean(-torch.log(confidence))"
   ]
  },
  {
   "cell_type": "code",
   "execution_count": 57,
   "metadata": {},
   "outputs": [
    {
     "name": "stdout",
     "output_type": "stream",
     "text": [
      "nn\n"
     ]
    },
    {
     "name": "stderr",
     "output_type": "stream",
     "text": [
      "/home/takano/.pyenv/versions/anaconda3-5.1.0/lib/python3.6/site-packages/ipykernel_launcher.py:1: UserWarning: invalid index of a 0-dim tensor. This will be an error in PyTorch 0.5. Use tensor.item() to convert a 0-dim tensor to a Python number\n",
      "  \"\"\"Entry point for launching an IPython kernel.\n"
     ]
    }
   ],
   "source": [
    "if 0.3 > confidence_loss.data[0]:\n",
    "    print('yy')\n",
    "else:\n",
    "    print('nn')"
   ]
  },
  {
   "cell_type": "code",
   "execution_count": null,
   "metadata": {},
   "outputs": [],
   "source": [
    "\n",
    "\n",
    "\n",
    "\n",
    "\n",
    "\n",
    "# 損失を定義\n",
    "total_loss = xentropy_loss + (lmbda * confidence_loss)\n",
    "if budget > confidence_loss.data[0]:\n",
    "    lmbda = lmbda / 1.01\n",
    "elif budget <= confidence_loss.data[0]:\n",
    "    lmbda = lmbda / 0.99"
   ]
  }
 ],
 "metadata": {
  "kernelspec": {
   "display_name": "Python 3",
   "language": "python",
   "name": "python3"
  },
  "language_info": {
   "codemirror_mode": {
    "name": "ipython",
    "version": 3
   },
   "file_extension": ".py",
   "mimetype": "text/x-python",
   "name": "python",
   "nbconvert_exporter": "python",
   "pygments_lexer": "ipython3",
   "version": "3.6.4"
  }
 },
 "nbformat": 4,
 "nbformat_minor": 2
}
