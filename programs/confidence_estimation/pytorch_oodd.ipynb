{
 "cells": [
  {
   "cell_type": "code",
   "execution_count": 1,
   "metadata": {},
   "outputs": [],
   "source": [
    "import pdb\n",
    "import argparse\n",
    "import numpy as np\n",
    "from tqdm import tqdm\n",
    "from sklearn import metrics\n",
    "import matplotlib.pyplot as plt\n",
    "\n",
    "import torch\n",
    "import torch.nn as nn\n",
    "import torch.nn.functional as F\n",
    "import torch.backends.cudnn as cudnn\n",
    "from torchvision import datasets, transforms\n",
    "from torch.utils.data import Dataset\n",
    "from torchvision.utils import make_grid\n",
    "from torch.autograd import Variable\n",
    "\n",
    "import seaborn as sns\n",
    "\n",
    "from models.vgg import VGG\n",
    "from models.densenet import DenseNet3\n",
    "from models.wideresnet import WideResNet\n",
    "from utils.ood_metrics import tpr95, detection\n",
    "from utils.datasets import GaussianNoise, UniformNoise"
   ]
  },
  {
   "cell_type": "markdown",
   "metadata": {},
   "source": [
    "## ハイパーパラメータの設定"
   ]
  },
  {
   "cell_type": "code",
   "execution_count": 2,
   "metadata": {},
   "outputs": [],
   "source": [
    "'''\n",
    "ind_dataset = cifar10\n",
    "ood_dataset = tinyImageNet_resize\n",
    "model = vgg13\n",
    "process = confidence\n",
    "'''\n",
    "batch_size =128\n",
    "T = 1000.\n",
    "epsilon = 0.001\n",
    "filename = 'checkpoints/cifar10_vgg13_budget_0.3_seed_0'\n",
    "validation = False\n",
    "cudnn.benchmark = True  # Should make training should go faster for large models"
   ]
  },
  {
   "cell_type": "markdown",
   "metadata": {},
   "source": [
    "## 正規化の前処理"
   ]
  },
  {
   "cell_type": "code",
   "execution_count": 3,
   "metadata": {},
   "outputs": [],
   "source": [
    "normalize = transforms.Normalize(mean=[x / 255.0 for x in [125.3, 123.0, 113.9]], std=[x / 255.0 for x in [63.0, 62.1, 66.7]])\n",
    "transform = transforms.Compose([transforms.ToTensor(), normalize])"
   ]
  },
  {
   "cell_type": "markdown",
   "metadata": {},
   "source": [
    "## in-distributionはCIFAR10<br>out-of-distributionはImagenet_resize"
   ]
  },
  {
   "cell_type": "code",
   "execution_count": 4,
   "metadata": {},
   "outputs": [
    {
     "name": "stdout",
     "output_type": "stream",
     "text": [
      "Files already downloaded and verified\n"
     ]
    }
   ],
   "source": [
    "num_classes = 10\n",
    "ind_dataset = datasets.CIFAR10(root='data/', train=False, transform=transform, download=True)\n",
    "ood_dataset = datasets.ImageFolder(root='data/Imagenet_resize', transform=transform)"
   ]
  },
  {
   "cell_type": "code",
   "execution_count": 5,
   "metadata": {},
   "outputs": [],
   "source": [
    "test = datasets.ImageFolder(root='data/Imagenet_resize', transform=transforms.Compose([transforms.ToTensor()]))\n",
    "img, lab = test[33]"
   ]
  },
  {
   "cell_type": "markdown",
   "metadata": {},
   "source": [
    "## Imagenet_resizeの画像を見てみる"
   ]
  },
  {
   "cell_type": "code",
   "execution_count": 6,
   "metadata": {},
   "outputs": [
    {
     "data": {
      "text/plain": [
       "(-0.5, 31.5, 31.5, -0.5)"
      ]
     },
     "execution_count": 6,
     "metadata": {},
     "output_type": "execute_result"
    },
    {
     "data": {
      "image/png": "[encoded data removed]",
      "text/plain": [
       "<matplotlib.figure.Figure at 0x7feb21c7ee48>"
      ]
     },
     "metadata": {},
     "output_type": "display_data"
    }
   ],
   "source": [
    "%matplotlib inline\n",
    "\n",
    "def imshow(img):\n",
    "    # unnormalize [-1, 1] => [0, 1]\n",
    "    #img = img / 2 + 0.5\n",
    "    npimg = img.numpy()\n",
    "    # [c, h, w] => [h, w, c]\n",
    "    plt.imshow(np.transpose(npimg, (1, 2, 0)))\n",
    "\n",
    "plt.figure(figsize=(3,3))\n",
    "imshow(make_grid(img))\n",
    "plt.axis('off')"
   ]
  },
  {
   "cell_type": "markdown",
   "metadata": {},
   "source": [
    "## データローダー"
   ]
  },
  {
   "cell_type": "code",
   "execution_count": 7,
   "metadata": {},
   "outputs": [],
   "source": [
    "ind_loader = torch.utils.data.DataLoader(\n",
    "                                         dataset=ind_dataset,\n",
    "                                         batch_size=batch_size,\n",
    "                                         shuffle=False,\n",
    "                                         pin_memory=True,\n",
    "                                         num_workers=2)\n",
    "\n",
    "ood_loader = torch.utils.data.DataLoader(\n",
    "                                         dataset=ood_dataset,\n",
    "                                         batch_size=batch_size,\n",
    "                                         shuffle=False,\n",
    "                                         pin_memory=True,\n",
    "                                         num_workers=2)\n",
    "\n",
    "# Use remaining samples for test evaluation\n",
    "ood_loader.dataset.imgs = ood_loader.dataset.imgs[1000:]\n",
    "ood_loader.dataset.__len__ = len(ood_loader.dataset.imgs)"
   ]
  },
  {
   "cell_type": "markdown",
   "metadata": {},
   "source": [
    "## モデルはVGG13＋学習した重みをロード"
   ]
  },
  {
   "cell_type": "code",
   "execution_count": 8,
   "metadata": {},
   "outputs": [
    {
     "data": {
      "text/plain": [
       "VGG(\n",
       "  (features): Sequential(\n",
       "    (0): Conv2d(3, 64, kernel_size=(3, 3), stride=(1, 1), padding=(1, 1))\n",
       "    (1): BatchNorm2d(64, eps=1e-05, momentum=0.1, affine=True, track_running_stats=True)\n",
       "    (2): ReLU(inplace)\n",
       "    (3): Conv2d(64, 64, kernel_size=(3, 3), stride=(1, 1), padding=(1, 1))\n",
       "    (4): BatchNorm2d(64, eps=1e-05, momentum=0.1, affine=True, track_running_stats=True)\n",
       "    (5): ReLU(inplace)\n",
       "    (6): MaxPool2d(kernel_size=2, stride=2, padding=0, dilation=1, ceil_mode=False)\n",
       "    (7): Conv2d(64, 128, kernel_size=(3, 3), stride=(1, 1), padding=(1, 1))\n",
       "    (8): BatchNorm2d(128, eps=1e-05, momentum=0.1, affine=True, track_running_stats=True)\n",
       "    (9): ReLU(inplace)\n",
       "    (10): Conv2d(128, 128, kernel_size=(3, 3), stride=(1, 1), padding=(1, 1))\n",
       "    (11): BatchNorm2d(128, eps=1e-05, momentum=0.1, affine=True, track_running_stats=True)\n",
       "    (12): ReLU(inplace)\n",
       "    (13): MaxPool2d(kernel_size=2, stride=2, padding=0, dilation=1, ceil_mode=False)\n",
       "    (14): Conv2d(128, 256, kernel_size=(3, 3), stride=(1, 1), padding=(1, 1))\n",
       "    (15): BatchNorm2d(256, eps=1e-05, momentum=0.1, affine=True, track_running_stats=True)\n",
       "    (16): ReLU(inplace)\n",
       "    (17): Conv2d(256, 256, kernel_size=(3, 3), stride=(1, 1), padding=(1, 1))\n",
       "    (18): BatchNorm2d(256, eps=1e-05, momentum=0.1, affine=True, track_running_stats=True)\n",
       "    (19): ReLU(inplace)\n",
       "    (20): MaxPool2d(kernel_size=2, stride=2, padding=0, dilation=1, ceil_mode=False)\n",
       "    (21): Conv2d(256, 512, kernel_size=(3, 3), stride=(1, 1), padding=(1, 1))\n",
       "    (22): BatchNorm2d(512, eps=1e-05, momentum=0.1, affine=True, track_running_stats=True)\n",
       "    (23): ReLU(inplace)\n",
       "    (24): Conv2d(512, 512, kernel_size=(3, 3), stride=(1, 1), padding=(1, 1))\n",
       "    (25): BatchNorm2d(512, eps=1e-05, momentum=0.1, affine=True, track_running_stats=True)\n",
       "    (26): ReLU(inplace)\n",
       "    (27): MaxPool2d(kernel_size=2, stride=2, padding=0, dilation=1, ceil_mode=False)\n",
       "    (28): Conv2d(512, 512, kernel_size=(3, 3), stride=(1, 1), padding=(1, 1))\n",
       "    (29): BatchNorm2d(512, eps=1e-05, momentum=0.1, affine=True, track_running_stats=True)\n",
       "    (30): ReLU(inplace)\n",
       "    (31): Conv2d(512, 512, kernel_size=(3, 3), stride=(1, 1), padding=(1, 1))\n",
       "    (32): BatchNorm2d(512, eps=1e-05, momentum=0.1, affine=True, track_running_stats=True)\n",
       "    (33): ReLU(inplace)\n",
       "    (34): MaxPool2d(kernel_size=2, stride=2, padding=0, dilation=1, ceil_mode=False)\n",
       "    (35): AvgPool2d(kernel_size=1, stride=1, padding=0)\n",
       "  )\n",
       "  (classifier): Linear(in_features=512, out_features=10, bias=True)\n",
       "  (confidence): Linear(in_features=512, out_features=1, bias=True)\n",
       ")"
      ]
     },
     "execution_count": 8,
     "metadata": {},
     "output_type": "execute_result"
    }
   ],
   "source": [
    "cnn = VGG(vgg_name='VGG13', num_classes=num_classes).cuda()\n",
    "model_dict = cnn.state_dict()\n",
    "pretrained_dict = torch.load(filename + '.pt')\n",
    "cnn.load_state_dict(pretrained_dict)\n",
    "cnn = cnn.cuda()\n",
    "cnn.eval()"
   ]
  },
  {
   "cell_type": "markdown",
   "metadata": {},
   "source": [
    "## 評価用の関数"
   ]
  },
  {
   "cell_type": "code",
   "execution_count": 9,
   "metadata": {},
   "outputs": [],
   "source": [
    "def evaluate(data_loader, mode):\n",
    "    out = []\n",
    "    xent = nn.CrossEntropyLoss()\n",
    "    for data in data_loader:\n",
    "        if type(data) == list:\n",
    "            images, labels = data\n",
    "        else:\n",
    "            images = data\n",
    "\n",
    "        images = Variable(images, requires_grad=True).cuda()\n",
    "        images.retain_grad()\n",
    "\n",
    "        if mode == 'confidence':\n",
    "            _, confidence = cnn(images)\n",
    "            confidence = F.sigmoid(confidence)\n",
    "            confidence = confidence.data.cpu().numpy()\n",
    "            out.append(confidence)\n",
    "\n",
    "        elif mode == 'confidence_scaling':\n",
    "            epsilon = epsilon.copy()\n",
    "\n",
    "            cnn.zero_grad()\n",
    "            _, confidence = cnn(images)\n",
    "            confidence = F.sigmoid(confidence).view(-1)\n",
    "            loss = torch.mean(-torch.log(confidence))\n",
    "            loss.backward()\n",
    "\n",
    "            images = images - epsilon * torch.sign(images.grad)\n",
    "            images = Variable(images.data, requires_grad=True)\n",
    "\n",
    "            _, confidence = cnn(images)\n",
    "            confidence = F.sigmoid(confidence)\n",
    "            confidence = confidence.data.cpu().numpy()\n",
    "            out.append(confidence)\n",
    "\n",
    "        elif mode == 'baseline':\n",
    "            # https://arxiv.org/abs/1610.02136\n",
    "            pred, _ = cnn(images)\n",
    "            pred = F.softmax(pred, dim=-1)\n",
    "            pred = torch.max(pred.data, 1)[0]\n",
    "            pred = pred.cpu().numpy()\n",
    "            out.append(pred)\n",
    "\n",
    "        elif mode == 'ODIN':\n",
    "            # https://arxiv.org/abs/1706.02690\n",
    "            T = T.copy()\n",
    "            epsilon = epsilon.copy()\n",
    "\n",
    "            cnn.zero_grad()\n",
    "            pred, _ = cnn(images)\n",
    "            _, pred_idx = torch.max(pred.data, 1)\n",
    "            labels = Variable(pred_idx)\n",
    "            pred = pred / T\n",
    "            loss = xent(pred, labels)\n",
    "            loss.backward()\n",
    "\n",
    "            images = images - epsilon * torch.sign(images.grad)\n",
    "            images = Variable(images.data, requires_grad=True)\n",
    "\n",
    "            pred, _ = cnn(images)\n",
    "\n",
    "            pred = pred / T\n",
    "            pred = F.softmax(pred, dim=-1)\n",
    "            pred = torch.max(pred.data, 1)[0]\n",
    "            pred = pred.cpu().numpy()\n",
    "            out.append(pred)\n",
    "\n",
    "    out = np.concatenate(out)\n",
    "    return out"
   ]
  },
  {
   "cell_type": "markdown",
   "metadata": {},
   "source": [
    "## 両方のデータセットをぶち込む"
   ]
  },
  {
   "cell_type": "code",
   "execution_count": 10,
   "metadata": {
    "scrolled": true
   },
   "outputs": [
    {
     "name": "stderr",
     "output_type": "stream",
     "text": [
      "/home/takano/.pyenv/versions/anaconda3-5.1.0/lib/python3.6/site-packages/torch/nn/functional.py:1006: UserWarning: nn.functional.sigmoid is deprecated. Use torch.sigmoid instead.\n",
      "  warnings.warn(\"nn.functional.sigmoid is deprecated. Use torch.sigmoid instead.\")\n"
     ]
    },
    {
     "name": "stdout",
     "output_type": "stream",
     "text": [
      "\n",
      "Method: confidence\n",
      "TPR95 (lower is better):  0.23696400000000004\n",
      "Detection error (lower is better):  0.12819999999999998\n",
      "Best threshold: 0.2200678890842469\n",
      "AUROC (higher is better):  0.952617835\n",
      "AUPR_IN (higher is better):  0.9542550603282451\n",
      "AUPR_OUT (higher is better):  0.9544481907395739\n"
     ]
    }
   ],
   "source": [
    "ind_scores = evaluate(ind_loader, 'confidence')\n",
    "ind_labels = np.ones(ind_scores.shape[0])\n",
    "\n",
    "ood_scores = evaluate(ood_loader, 'confidence')\n",
    "ood_labels = np.zeros(ood_scores.shape[0])\n",
    "\n",
    "labels = np.concatenate([ind_labels, ood_labels])\n",
    "scores = np.concatenate([ind_scores, ood_scores])\n",
    "\n",
    "fpr_at_95_tpr = tpr95(ind_scores, ood_scores)\n",
    "detection_error, best_delta = detection(ind_scores, ood_scores)\n",
    "auroc = metrics.roc_auc_score(labels, scores)\n",
    "aupr_in = metrics.average_precision_score(labels, scores)\n",
    "aupr_out = metrics.average_precision_score(-1 * labels + 1, 1 - scores)\n",
    "\n",
    "print(\"\")\n",
    "print(\"Method: \" + 'confidence')\n",
    "print(\"TPR95 (lower is better): \", fpr_at_95_tpr)\n",
    "print(\"Detection error (lower is better): \", detection_error)\n",
    "print(\"Best threshold:\", best_delta)\n",
    "print(\"AUROC (higher is better): \", auroc)\n",
    "print(\"AUPR_IN (higher is better): \", aupr_in)\n",
    "print(\"AUPR_OUT (higher is better): \", aupr_out)"
   ]
  },
  {
   "cell_type": "markdown",
   "metadata": {},
   "source": [
    "## confidenceの分布"
   ]
  },
  {
   "cell_type": "code",
   "execution_count": 11,
   "metadata": {},
   "outputs": [
    {
     "data": {
      "image/png": "[encoded data removed]",
      "text/plain": [
       "<matplotlib.figure.Figure at 0x7feb21c7e940>"
      ]
     },
     "metadata": {},
     "output_type": "display_data"
    }
   ],
   "source": [
    "ranges = (np.min(scores), np.max(scores))\n",
    "plt.figure()\n",
    "sns.distplot(ind_scores.ravel(), hist_kws={'range': ranges}, kde=False, bins=50, norm_hist=True, label='In-distribution')\n",
    "sns.distplot(ood_scores.ravel(), hist_kws={'range': ranges}, kde=False, bins=50, norm_hist=True, label='Out-of-distribution')\n",
    "plt.xlabel('Confidence')\n",
    "plt.ylabel('Density')\n",
    "plt.legend()\n",
    "plt.show()"
   ]
  },
  {
   "cell_type": "markdown",
   "metadata": {},
   "source": [
    "## 1枚だけ画像を入力して比較してみる"
   ]
  },
  {
   "cell_type": "code",
   "execution_count": 69,
   "metadata": {},
   "outputs": [],
   "source": [
    "cifar10_label = {0:'airplane', 1:'automobile', 2:'bird', 3:'cat', 4:'deer',\n",
    "                             5:'dog', 6:'frog', 7:'horse', 8:'ship', 9:'truck'}"
   ]
  },
  {
   "cell_type": "markdown",
   "metadata": {},
   "source": [
    "## out-of-distribution用のデータセットは正規化しない"
   ]
  },
  {
   "cell_type": "code",
   "execution_count": 96,
   "metadata": {},
   "outputs": [
    {
     "name": "stdout",
     "output_type": "stream",
     "text": [
      "Files already downloaded and verified\n",
      "Files already downloaded and verified\n"
     ]
    }
   ],
   "source": [
    "normalize = transforms.Normalize(mean=[x / 255.0 for x in [125.3, 123.0, 113.9]], std=[x / 255.0 for x in [63.0, 62.1, 66.7]])\n",
    "in_transform = transforms.Compose([transforms.ToTensor()])\n",
    "in_transform.transforms.append(normalize)\n",
    "in_dataset = datasets.CIFAR10(root='data/', train=False, transform=in_transform, download=True)\n",
    "\n",
    "out_transform = transforms.Compose([transforms.ToTensor()])\n",
    "out_dataset = datasets.CIFAR10(root='data/', train=False, transform=out_transform, download=True)"
   ]
  },
  {
   "cell_type": "markdown",
   "metadata": {},
   "source": [
    "## index33がわかりやすいイッヌなのでこれで試す"
   ]
  },
  {
   "cell_type": "code",
   "execution_count": 97,
   "metadata": {},
   "outputs": [],
   "source": [
    "in_image, in_label = in_dataset[33]\n",
    "out_image, out_label = out_dataset[33]"
   ]
  },
  {
   "cell_type": "code",
   "execution_count": 98,
   "metadata": {},
   "outputs": [
    {
     "name": "stdout",
     "output_type": "stream",
     "text": [
      "type :  <class 'torch.Tensor'> in_image :  5 dog\n",
      "type :  <class 'torch.Tensor'> out_image :  5 dog\n"
     ]
    }
   ],
   "source": [
    "print('type : ', type(in_image), 'in_image : ', in_label, cifar10_label[in_label])\n",
    "print('type : ', type(out_image), 'out_image : ', out_label, cifar10_label[out_label])"
   ]
  },
  {
   "cell_type": "markdown",
   "metadata": {},
   "source": [
    "## out-of-distribution の画像を見てみる<br>in-distribution の画像は-2~2に正規化してあるので表示できない"
   ]
  },
  {
   "cell_type": "code",
   "execution_count": 99,
   "metadata": {},
   "outputs": [
    {
     "data": {
      "text/plain": [
       "(-0.5, 31.5, 31.5, -0.5)"
      ]
     },
     "execution_count": 99,
     "metadata": {},
     "output_type": "execute_result"
    },
    {
     "data": {
      "image/png": "[encoded data removed]",
      "text/plain": [
       "<matplotlib.figure.Figure at 0x7f480813be80>"
      ]
     },
     "metadata": {},
     "output_type": "display_data"
    }
   ],
   "source": [
    "%matplotlib inline\n",
    "\n",
    "def imshow(img):\n",
    "    # unnormalize [-1, 1] => [0, 1]\n",
    "    #img = img / 2 + 0.5\n",
    "    npimg = img.numpy()\n",
    "    # [c, h, w] => [h, w, c]\n",
    "    plt.imshow(np.transpose(npimg, (1, 2, 0)))\n",
    "\n",
    "plt.figure(figsize=(3,3))\n",
    "imshow(make_grid(out_image))\n",
    "plt.axis('off')"
   ]
  },
  {
   "cell_type": "markdown",
   "metadata": {},
   "source": [
    "## バッチサイズ次元を追加"
   ]
  },
  {
   "cell_type": "code",
   "execution_count": 100,
   "metadata": {},
   "outputs": [],
   "source": [
    "in_image = torch.unsqueeze(in_image, 0)\n",
    "out_image = torch.unsqueeze(out_image, 0)"
   ]
  },
  {
   "cell_type": "markdown",
   "metadata": {},
   "source": [
    "## Varibaleに変換"
   ]
  },
  {
   "cell_type": "code",
   "execution_count": 101,
   "metadata": {},
   "outputs": [],
   "source": [
    "in_image = Variable(in_image, requires_grad=True).cuda()\n",
    "#in_image.retain_grad()\n",
    "out_image = Variable(out_image, requires_grad=True).cuda()\n",
    "#out_image.retain_grad()"
   ]
  },
  {
   "cell_type": "markdown",
   "metadata": {},
   "source": [
    "## 順伝播の出力を活性化"
   ]
  },
  {
   "cell_type": "code",
   "execution_count": 102,
   "metadata": {
    "scrolled": true
   },
   "outputs": [
    {
     "name": "stderr",
     "output_type": "stream",
     "text": [
      "/home/takano/.pyenv/versions/anaconda3-5.1.0/lib/python3.6/site-packages/ipykernel_launcher.py:2: UserWarning: Implicit dimension choice for softmax has been deprecated. Change the call to include dim=X as an argument.\n",
      "  \n",
      "/home/takano/.pyenv/versions/anaconda3-5.1.0/lib/python3.6/site-packages/torch/nn/functional.py:1006: UserWarning: nn.functional.sigmoid is deprecated. Use torch.sigmoid instead.\n",
      "  warnings.warn(\"nn.functional.sigmoid is deprecated. Use torch.sigmoid instead.\")\n",
      "/home/takano/.pyenv/versions/anaconda3-5.1.0/lib/python3.6/site-packages/ipykernel_launcher.py:4: UserWarning: Implicit dimension choice for softmax has been deprecated. Change the call to include dim=X as an argument.\n",
      "  after removing the cwd from sys.path.\n"
     ]
    }
   ],
   "source": [
    "in_prediction, in_confidence = cnn(in_image)\n",
    "in_prediction, in_confidence = F.softmax(in_prediction), F.sigmoid(in_confidence)\n",
    "out_prediction, out_confidence = cnn(out_image)\n",
    "out_prediction, out_confidence = F.softmax(out_prediction), F.sigmoid(out_confidence)"
   ]
  },
  {
   "cell_type": "markdown",
   "metadata": {},
   "source": [
    "## in-distribution の画像 → confidence70%!!"
   ]
  },
  {
   "cell_type": "code",
   "execution_count": 103,
   "metadata": {},
   "outputs": [
    {
     "name": "stdout",
     "output_type": "stream",
     "text": [
      "probability :  [0.9987526]\n",
      "class :  [5] dog\n",
      "confidnece :  [[0.70243955]]\n"
     ]
    }
   ],
   "source": [
    "in_probability, in_class_num = torch.max(in_prediction, 1)\n",
    "print('probability : ', in_probability.cpu().detach().numpy())\n",
    "print('class : ', in_class_num.cpu().detach().numpy(), cifar10_label[in_class_num.cpu().detach().numpy()[0]])\n",
    "print('confidnece : ', in_confidence.cpu().detach().numpy())"
   ]
  },
  {
   "cell_type": "markdown",
   "metadata": {},
   "source": [
    "## out-of-distribution の画像 → confidence9%!!低い!!"
   ]
  },
  {
   "cell_type": "code",
   "execution_count": 104,
   "metadata": {},
   "outputs": [
    {
     "name": "stdout",
     "output_type": "stream",
     "text": [
      "probability :  [0.92188257]\n",
      "class :  [3] cat\n",
      "confidnece :  [[0.09652244]]\n"
     ]
    }
   ],
   "source": [
    "out_probability, out_class_num = torch.max(out_prediction, 1)\n",
    "print('probability : ', out_probability.cpu().detach().numpy())\n",
    "print('class : ', out_class_num.cpu().detach().numpy(), cifar10_label[out_class_num.cpu().detach().numpy()[0]])\n",
    "print('confidnece : ', out_confidence.cpu().detach().numpy())"
   ]
  },
  {
   "cell_type": "code",
   "execution_count": null,
   "metadata": {},
   "outputs": [],
   "source": []
  }
 ],
 "metadata": {
  "kernelspec": {
   "display_name": "Python 3",
   "language": "python",
   "name": "python3"
  },
  "language_info": {
   "codemirror_mode": {
    "name": "ipython",
    "version": 3
   },
   "file_extension": ".py",
   "mimetype": "text/x-python",
   "name": "python",
   "nbconvert_exporter": "python",
   "pygments_lexer": "ipython3",
   "version": "3.6.4"
  }
 },
 "nbformat": 4,
 "nbformat_minor": 2
}
