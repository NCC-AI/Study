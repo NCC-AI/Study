{
 "cells": [
  {
   "cell_type": "markdown",
   "metadata": {},
   "source": [
    "# Train The Small Model"
   ]
  },
  {
   "cell_type": "code",
   "execution_count": 1,
   "metadata": {},
   "outputs": [
    {
     "name": "stderr",
     "output_type": "stream",
     "text": [
      "Using TensorFlow backend.\n"
     ]
    }
   ],
   "source": [
    "import numpy as np\n",
    "\n",
    "import keras\n",
    "from keras.models import Sequential\n",
    "from keras.layers import Dense, Dropout, Activation\n",
    "from keras.optimizers import Adam\n",
    "from keras.datasets import mnist"
   ]
  },
  {
   "cell_type": "code",
   "execution_count": 2,
   "metadata": {},
   "outputs": [
    {
     "name": "stdout",
     "output_type": "stream",
     "text": [
      "60000 train samples\n",
      "10000 test samples\n"
     ]
    }
   ],
   "source": [
    "batch_size = 128\n",
    "num_classes = 10\n",
    "epochs = 30\n",
    "\n",
    "# the data, split between train and test sets\n",
    "(x_train, y_train), (x_test, y_test) = mnist.load_data()\n",
    "\n",
    "x_train = x_train.reshape(60000, 784)\n",
    "x_test = x_test.reshape(10000, 784)\n",
    "x_train = x_train.astype('float32')\n",
    "x_test = x_test.astype('float32')\n",
    "x_train /= 255\n",
    "x_test /= 255\n",
    "print(x_train.shape[0], 'train samples')\n",
    "print(x_test.shape[0], 'test samples')\n",
    "\n",
    "# convert class vectors to binary class matrices\n",
    "y_train = keras.utils.to_categorical(y_train, num_classes)\n",
    "y_test = keras.utils.to_categorical(y_test, num_classes)"
   ]
  },
  {
   "cell_type": "code",
   "execution_count": 3,
   "metadata": {},
   "outputs": [],
   "source": [
    "model = Sequential()\n",
    "model.add(Dense(100, activation='relu', input_shape=(784,)))\n",
    "model.add(Dense(100, activation='relu'))\n",
    "model.add(Dense(num_classes))\n",
    "model.add(Activation('softmax'))"
   ]
  },
  {
   "cell_type": "code",
   "execution_count": 4,
   "metadata": {},
   "outputs": [],
   "source": [
    "model.compile(loss='categorical_crossentropy',\n",
    "              optimizer=Adam(),\n",
    "              metrics=['accuracy'])"
   ]
  },
  {
   "cell_type": "code",
   "execution_count": 5,
   "metadata": {},
   "outputs": [
    {
     "name": "stdout",
     "output_type": "stream",
     "text": [
      "Train on 60000 samples, validate on 10000 samples\n",
      "Epoch 1/30\n",
      "60000/60000 [==============================] - 10s 159us/step - loss: 0.3436 - acc: 0.9035 - val_loss: 0.1574 - val_acc: 0.9540\n",
      "Epoch 2/30\n",
      "60000/60000 [==============================] - 7s 116us/step - loss: 0.1368 - acc: 0.9594 - val_loss: 0.1146 - val_acc: 0.9647\n",
      "Epoch 3/30\n",
      "60000/60000 [==============================] - 7s 117us/step - loss: 0.0962 - acc: 0.9713 - val_loss: 0.1086 - val_acc: 0.9641\n",
      "Epoch 4/30\n",
      "60000/60000 [==============================] - 7s 117us/step - loss: 0.0729 - acc: 0.9778 - val_loss: 0.0833 - val_acc: 0.9738\n",
      "Epoch 5/30\n",
      "60000/60000 [==============================] - 7s 121us/step - loss: 0.0578 - acc: 0.9822 - val_loss: 0.0853 - val_acc: 0.9740\n",
      "Epoch 6/30\n",
      "60000/60000 [==============================] - 7s 117us/step - loss: 0.0483 - acc: 0.9851 - val_loss: 0.0872 - val_acc: 0.9732\n",
      "Epoch 7/30\n",
      "60000/60000 [==============================] - 7s 114us/step - loss: 0.0405 - acc: 0.9869 - val_loss: 0.0888 - val_acc: 0.9722\n",
      "Epoch 8/30\n",
      "60000/60000 [==============================] - 7s 111us/step - loss: 0.0318 - acc: 0.9903 - val_loss: 0.0779 - val_acc: 0.9771\n",
      "Epoch 9/30\n",
      "60000/60000 [==============================] - 7s 115us/step - loss: 0.0264 - acc: 0.9920 - val_loss: 0.0826 - val_acc: 0.9765\n",
      "Epoch 10/30\n",
      "60000/60000 [==============================] - 7s 121us/step - loss: 0.0220 - acc: 0.9936 - val_loss: 0.0820 - val_acc: 0.9775\n",
      "Epoch 11/30\n",
      "60000/60000 [==============================] - 7s 118us/step - loss: 0.0211 - acc: 0.9932 - val_loss: 0.0857 - val_acc: 0.9772\n",
      "Epoch 12/30\n",
      "60000/60000 [==============================] - 7s 121us/step - loss: 0.0165 - acc: 0.9949 - val_loss: 0.0873 - val_acc: 0.9787\n",
      "Epoch 13/30\n",
      "60000/60000 [==============================] - 7s 121us/step - loss: 0.0163 - acc: 0.9947 - val_loss: 0.0885 - val_acc: 0.9767\n",
      "Epoch 14/30\n",
      "60000/60000 [==============================] - 7s 121us/step - loss: 0.0126 - acc: 0.9963 - val_loss: 0.0956 - val_acc: 0.9773\n",
      "Epoch 15/30\n",
      "60000/60000 [==============================] - 7s 121us/step - loss: 0.0108 - acc: 0.9971 - val_loss: 0.1359 - val_acc: 0.9696\n",
      "Epoch 16/30\n",
      "60000/60000 [==============================] - 7s 121us/step - loss: 0.0134 - acc: 0.9959 - val_loss: 0.0988 - val_acc: 0.9759\n",
      "Epoch 17/30\n",
      "60000/60000 [==============================] - 7s 122us/step - loss: 0.0095 - acc: 0.9971 - val_loss: 0.1050 - val_acc: 0.9768\n",
      "Epoch 18/30\n",
      "60000/60000 [==============================] - 7s 123us/step - loss: 0.0106 - acc: 0.9965 - val_loss: 0.1016 - val_acc: 0.9767\n",
      "Epoch 19/30\n",
      "60000/60000 [==============================] - 7s 122us/step - loss: 0.0108 - acc: 0.9962 - val_loss: 0.0966 - val_acc: 0.9792\n",
      "Epoch 20/30\n",
      "60000/60000 [==============================] - 7s 121us/step - loss: 0.0077 - acc: 0.9977 - val_loss: 0.1005 - val_acc: 0.9788\n",
      "Epoch 21/30\n",
      "60000/60000 [==============================] - 7s 123us/step - loss: 0.0058 - acc: 0.9983 - val_loss: 0.1129 - val_acc: 0.9762\n",
      "Epoch 22/30\n",
      "60000/60000 [==============================] - 7s 121us/step - loss: 0.0064 - acc: 0.9978 - val_loss: 0.1172 - val_acc: 0.9765\n",
      "Epoch 23/30\n",
      "60000/60000 [==============================] - 7s 123us/step - loss: 0.0099 - acc: 0.9965 - val_loss: 0.1157 - val_acc: 0.9774\n",
      "Epoch 24/30\n",
      "60000/60000 [==============================] - 7s 124us/step - loss: 0.0094 - acc: 0.9966 - val_loss: 0.1163 - val_acc: 0.9777\n",
      "Epoch 25/30\n",
      "60000/60000 [==============================] - 7s 121us/step - loss: 0.0070 - acc: 0.9976 - val_loss: 0.1152 - val_acc: 0.9770\n",
      "Epoch 26/30\n",
      "60000/60000 [==============================] - 7s 122us/step - loss: 0.0056 - acc: 0.9980 - val_loss: 0.1214 - val_acc: 0.9778\n",
      "Epoch 27/30\n",
      "60000/60000 [==============================] - 7s 122us/step - loss: 0.0063 - acc: 0.9981 - val_loss: 0.1225 - val_acc: 0.9771\n",
      "Epoch 28/30\n",
      "60000/60000 [==============================] - 7s 121us/step - loss: 0.0057 - acc: 0.9981 - val_loss: 0.1366 - val_acc: 0.9760\n",
      "Epoch 29/30\n",
      "60000/60000 [==============================] - 7s 122us/step - loss: 0.0089 - acc: 0.9972 - val_loss: 0.1211 - val_acc: 0.9762\n",
      "Epoch 30/30\n",
      "60000/60000 [==============================] - 7s 124us/step - loss: 0.0060 - acc: 0.9981 - val_loss: 0.1073 - val_acc: 0.9771\n"
     ]
    },
    {
     "data": {
      "text/plain": [
       "<keras.callbacks.History at 0x7f787fb087b8>"
      ]
     },
     "execution_count": 5,
     "metadata": {},
     "output_type": "execute_result"
    }
   ],
   "source": [
    "model.fit(x_train, y_train,\n",
    "          batch_size=batch_size,\n",
    "          epochs=epochs,\n",
    "          verbose=1,\n",
    "          validation_data=(x_test, y_test))"
   ]
  },
  {
   "cell_type": "code",
   "execution_count": 6,
   "metadata": {},
   "outputs": [
    {
     "name": "stdout",
     "output_type": "stream",
     "text": [
      "Number of error:  229 / 10000\n"
     ]
    }
   ],
   "source": [
    "error = 0\n",
    "y_pred = model.predict(x_test, verbose=0)\n",
    "\n",
    "for i in range(len(y_pred)):\n",
    "    if not y_pred[i].argmax() == y_test[i].argmax():\n",
    "        error += 1\n",
    "print('Number of error: ', error, '/', len(y_pred))"
   ]
  },
  {
   "cell_type": "code",
   "execution_count": null,
   "metadata": {},
   "outputs": [],
   "source": []
  }
 ],
 "metadata": {
  "kernelspec": {
   "display_name": "Python 3",
   "language": "python",
   "name": "python3"
  },
  "language_info": {
   "codemirror_mode": {
    "name": "ipython",
    "version": 3
   },
   "file_extension": ".py",
   "mimetype": "text/x-python",
   "name": "python",
   "nbconvert_exporter": "python",
   "pygments_lexer": "ipython3",
   "version": "3.6.4"
  }
 },
 "nbformat": 4,
 "nbformat_minor": 2
}
