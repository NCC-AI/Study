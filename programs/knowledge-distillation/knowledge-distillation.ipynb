{
 "cells": [
  {
   "cell_type": "markdown",
   "metadata": {},
   "source": [
    "# Knowledge Distillation"
   ]
  },
  {
   "cell_type": "code",
   "execution_count": 1,
   "metadata": {},
   "outputs": [
    {
     "name": "stderr",
     "output_type": "stream",
     "text": [
      "Using TensorFlow backend.\n"
     ]
    }
   ],
   "source": [
    "import numpy as np\n",
    "\n",
    "import keras\n",
    "from keras.models import Sequential\n",
    "from keras.layers import Dense, Dropout, Activation\n",
    "from keras.optimizers import Adam\n",
    "from keras.layers import Lambda\n",
    "from keras.datasets import mnist"
   ]
  },
  {
   "cell_type": "code",
   "execution_count": 2,
   "metadata": {},
   "outputs": [
    {
     "name": "stdout",
     "output_type": "stream",
     "text": [
      "60000 train samples\n",
      "10000 test samples\n"
     ]
    }
   ],
   "source": [
    "batch_size = 128\n",
    "num_classes = 10\n",
    "epochs = 30\n",
    "\n",
    "# the data, split between train and test sets\n",
    "(x_train, y_train), (x_test, y_test) = mnist.load_data()\n",
    "\n",
    "x_train = x_train.reshape(60000, 784)\n",
    "x_test = x_test.reshape(10000, 784)\n",
    "x_train = x_train.astype('float32')\n",
    "x_test = x_test.astype('float32')\n",
    "x_train /= 255\n",
    "x_test /= 255\n",
    "print(x_train.shape[0], 'train samples')\n",
    "print(x_test.shape[0], 'test samples')\n",
    "\n",
    "# convert class vectors to binary class matrices\n",
    "y_train = keras.utils.to_categorical(y_train, num_classes)\n",
    "y_test = keras.utils.to_categorical(y_test, num_classes)"
   ]
  },
  {
   "cell_type": "code",
   "execution_count": 3,
   "metadata": {},
   "outputs": [
    {
     "name": "stdout",
     "output_type": "stream",
     "text": [
      "(60000, 10) train targets\n"
     ]
    }
   ],
   "source": [
    "soft_target = np.load('soft_target.npy')\n",
    "print(soft_target.shape, 'train targets')"
   ]
  },
  {
   "cell_type": "code",
   "execution_count": 4,
   "metadata": {},
   "outputs": [],
   "source": [
    "from keras.models import Model\n",
    "from keras.layers import Input, concatenate"
   ]
  },
  {
   "cell_type": "code",
   "execution_count": 5,
   "metadata": {},
   "outputs": [],
   "source": [
    "input_tensor = Input(shape=(784,))\n",
    "net = Dense(100, activation='relu')(input_tensor)\n",
    "net = Dense(100, activation='relu')(net)\n",
    "net = Dense(num_classes)(net)\n",
    "\n",
    "hard_temperature = 1\n",
    "hard_net = Lambda(lambda x: x/hard_temperature)(net)\n",
    "hard_net = Activation('softmax', name='hard_pred')(hard_net)\n",
    "\n",
    "soft_temperature = 5\n",
    "soft_net = Lambda(lambda x: x/soft_temperature)(net)\n",
    "soft_net = Activation('softmax', name='soft_pred')(soft_net)\n",
    "\n",
    "model = Model(input_tensor, concatenate([hard_net, soft_net]))"
   ]
  },
  {
   "cell_type": "code",
   "execution_count": 6,
   "metadata": {},
   "outputs": [
    {
     "data": {
      "text/plain": [
       "(60000, 20)"
      ]
     },
     "execution_count": 6,
     "metadata": {},
     "output_type": "execute_result"
    }
   ],
   "source": [
    "new_train_target = np.hstack((y_train, soft_target))\n",
    "new_train_target.shape"
   ]
  },
  {
   "cell_type": "code",
   "execution_count": 7,
   "metadata": {},
   "outputs": [
    {
     "data": {
      "text/plain": [
       "(10000, 20)"
      ]
     },
     "execution_count": 7,
     "metadata": {},
     "output_type": "execute_result"
    }
   ],
   "source": [
    "new_test_target = np.hstack((y_test, y_test))\n",
    "new_test_target.shape"
   ]
  },
  {
   "cell_type": "code",
   "execution_count": 8,
   "metadata": {},
   "outputs": [],
   "source": [
    "import keras.backend as K\n",
    "from keras.losses import categorical_crossentropy as xentropy\n",
    "\n",
    "def kd_loss(y_true, y_pred):\n",
    "    hard_true, soft_true = y_true[:, :10], y_true[:, 10:]\n",
    "    hard_pred, soft_pred = y_pred[:, :10], y_pred[:, 10:]\n",
    "    hard_loss = xentropy(hard_true, hard_pred)\n",
    "    soft_loss = xentropy(soft_true, soft_pred)*np.power(soft_temperature, 2)\n",
    "    return hard_loss+soft_loss"
   ]
  },
  {
   "cell_type": "code",
   "execution_count": 9,
   "metadata": {},
   "outputs": [],
   "source": [
    "model.compile(loss=kd_loss,\n",
    "              optimizer=Adam(),\n",
    "              metrics=['accuracy'])"
   ]
  },
  {
   "cell_type": "code",
   "execution_count": 10,
   "metadata": {},
   "outputs": [
    {
     "name": "stdout",
     "output_type": "stream",
     "text": [
      "Train on 60000 samples, validate on 10000 samples\n",
      "Epoch 1/30\n",
      "60000/60000 [==============================] - 10s 168us/step - loss: 17.7080 - acc: 0.8821 - val_loss: 7.2687 - val_acc: 0.9332\n",
      "Epoch 2/30\n",
      "60000/60000 [==============================] - 7s 120us/step - loss: 11.4465 - acc: 0.9459 - val_loss: 5.4536 - val_acc: 0.9524\n",
      "Epoch 3/30\n",
      "60000/60000 [==============================] - 7s 121us/step - loss: 10.2364 - acc: 0.9601 - val_loss: 4.5386 - val_acc: 0.9637\n",
      "Epoch 4/30\n",
      "60000/60000 [==============================] - 7s 120us/step - loss: 9.5794 - acc: 0.9691 - val_loss: 4.2301 - val_acc: 0.9685\n",
      "Epoch 5/30\n",
      "60000/60000 [==============================] - 7s 124us/step - loss: 9.2098 - acc: 0.9741 - val_loss: 3.9892 - val_acc: 0.9727\n",
      "Epoch 6/30\n",
      "60000/60000 [==============================] - 7s 123us/step - loss: 8.9359 - acc: 0.9789 - val_loss: 3.9173 - val_acc: 0.9738\n",
      "Epoch 7/30\n",
      "60000/60000 [==============================] - 7s 120us/step - loss: 8.7573 - acc: 0.9822 - val_loss: 3.7287 - val_acc: 0.9760\n",
      "Epoch 8/30\n",
      "60000/60000 [==============================] - 7s 121us/step - loss: 8.6206 - acc: 0.9847 - val_loss: 3.5694 - val_acc: 0.9772\n",
      "Epoch 9/30\n",
      "60000/60000 [==============================] - 7s 120us/step - loss: 8.5222 - acc: 0.9862 - val_loss: 3.6671 - val_acc: 0.9768\n",
      "Epoch 10/30\n",
      "60000/60000 [==============================] - 7s 122us/step - loss: 8.4308 - acc: 0.9880 - val_loss: 3.5616 - val_acc: 0.9768\n",
      "Epoch 11/30\n",
      "60000/60000 [==============================] - 7s 121us/step - loss: 8.3646 - acc: 0.9900 - val_loss: 3.5191 - val_acc: 0.9790\n",
      "Epoch 12/30\n",
      "60000/60000 [==============================] - 7s 121us/step - loss: 8.3029 - acc: 0.9906 - val_loss: 3.6079 - val_acc: 0.9783\n",
      "Epoch 13/30\n",
      "60000/60000 [==============================] - 7s 122us/step - loss: 8.2612 - acc: 0.9917 - val_loss: 3.4858 - val_acc: 0.9782\n",
      "Epoch 14/30\n",
      "60000/60000 [==============================] - 7s 121us/step - loss: 8.2219 - acc: 0.9923 - val_loss: 3.3552 - val_acc: 0.9808\n",
      "Epoch 15/30\n",
      "60000/60000 [==============================] - 8s 128us/step - loss: 8.1955 - acc: 0.9932 - val_loss: 3.5618 - val_acc: 0.9797\n",
      "Epoch 16/30\n",
      "60000/60000 [==============================] - 7s 124us/step - loss: 8.1666 - acc: 0.9933 - val_loss: 3.4826 - val_acc: 0.9797\n",
      "Epoch 17/30\n",
      "60000/60000 [==============================] - 7s 122us/step - loss: 8.1388 - acc: 0.9941 - val_loss: 3.5195 - val_acc: 0.9782\n",
      "Epoch 18/30\n",
      "60000/60000 [==============================] - 7s 122us/step - loss: 8.1198 - acc: 0.9946 - val_loss: 3.5616 - val_acc: 0.9787\n",
      "Epoch 19/30\n",
      "60000/60000 [==============================] - 7s 119us/step - loss: 8.1019 - acc: 0.9950 - val_loss: 3.4425 - val_acc: 0.9795\n",
      "Epoch 20/30\n",
      "60000/60000 [==============================] - 7s 121us/step - loss: 8.0841 - acc: 0.9954 - val_loss: 3.3442 - val_acc: 0.9810\n",
      "Epoch 21/30\n",
      "60000/60000 [==============================] - 7s 123us/step - loss: 8.0722 - acc: 0.9956 - val_loss: 3.4753 - val_acc: 0.9803\n",
      "Epoch 22/30\n",
      "60000/60000 [==============================] - 7s 119us/step - loss: 8.0602 - acc: 0.9958 - val_loss: 3.2406 - val_acc: 0.9808\n",
      "Epoch 23/30\n",
      "60000/60000 [==============================] - 7s 123us/step - loss: 8.0455 - acc: 0.9962 - val_loss: 3.4790 - val_acc: 0.9801\n",
      "Epoch 24/30\n",
      "60000/60000 [==============================] - 7s 123us/step - loss: 8.0324 - acc: 0.9964 - val_loss: 3.3149 - val_acc: 0.9802\n",
      "Epoch 25/30\n",
      "60000/60000 [==============================] - 7s 124us/step - loss: 8.0223 - acc: 0.9968 - val_loss: 3.4222 - val_acc: 0.9793\n",
      "Epoch 26/30\n",
      "60000/60000 [==============================] - 7s 122us/step - loss: 8.0164 - acc: 0.9969 - val_loss: 3.4545 - val_acc: 0.9798\n",
      "Epoch 27/30\n",
      "60000/60000 [==============================] - 7s 122us/step - loss: 8.0036 - acc: 0.9973 - val_loss: 3.3929 - val_acc: 0.9800\n",
      "Epoch 28/30\n",
      "60000/60000 [==============================] - 7s 125us/step - loss: 8.0013 - acc: 0.9970 - val_loss: 3.4523 - val_acc: 0.9808\n",
      "Epoch 29/30\n",
      "60000/60000 [==============================] - 7s 121us/step - loss: 7.9926 - acc: 0.9971 - val_loss: 3.3431 - val_acc: 0.9797\n",
      "Epoch 30/30\n",
      "60000/60000 [==============================] - 7s 121us/step - loss: 7.9856 - acc: 0.9975 - val_loss: 3.3540 - val_acc: 0.9800\n"
     ]
    },
    {
     "data": {
      "text/plain": [
       "<keras.callbacks.History at 0x7f8a74c134a8>"
      ]
     },
     "execution_count": 10,
     "metadata": {},
     "output_type": "execute_result"
    }
   ],
   "source": [
    "model.fit(x_train, new_train_target,\n",
    "          batch_size=batch_size,\n",
    "          epochs=epochs,\n",
    "          verbose=1,\n",
    "          validation_data=(x_test, new_test_target))"
   ]
  },
  {
   "cell_type": "code",
   "execution_count": 11,
   "metadata": {},
   "outputs": [
    {
     "name": "stdout",
     "output_type": "stream",
     "text": [
      "Number of error:  200 / 10000\n"
     ]
    }
   ],
   "source": [
    "error = 0\n",
    "y_pred = model.predict(x_test, verbose=0)\n",
    "\n",
    "for i in range(len(y_pred)):\n",
    "    if not y_pred[i][:10].argmax() == new_test_target[i][:10].argmax():\n",
    "        error += 1\n",
    "print('Number of error: ', error, '/', len(y_pred))"
   ]
  }
 ],
 "metadata": {
  "kernelspec": {
   "display_name": "Python 3",
   "language": "python",
   "name": "python3"
  },
  "language_info": {
   "codemirror_mode": {
    "name": "ipython",
    "version": 3
   },
   "file_extension": ".py",
   "mimetype": "text/x-python",
   "name": "python",
   "nbconvert_exporter": "python",
   "pygments_lexer": "ipython3",
   "version": "3.6.4"
  }
 },
 "nbformat": 4,
 "nbformat_minor": 2
}
