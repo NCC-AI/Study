{
 "cells": [
  {
   "cell_type": "code",
   "execution_count": 1,
   "metadata": {},
   "outputs": [
    {
     "name": "stderr",
     "output_type": "stream",
     "text": [
      "Using TensorFlow backend.\n"
     ]
    }
   ],
   "source": [
    "import keras\n",
    "from keras import backend as K"
   ]
  },
  {
   "cell_type": "code",
   "execution_count": 2,
   "metadata": {},
   "outputs": [],
   "source": [
    "model_path = 'part1_mnist.h5'\n",
    "\n",
    "def MyLoss(y_true, y_pred):\n",
    "    return K.categorical_crossentropy(y_true, y_pred)\n",
    "\n",
    "def MyMetrics(y_true, y_pred):\n",
    "    return K.cast(K.equal(K.argmax(y_true, axis=-1),\n",
    "                          K.argmax(y_pred, axis=-1)),\n",
    "                  K.floatx())"
   ]
  },
  {
   "cell_type": "code",
   "execution_count": 3,
   "metadata": {},
   "outputs": [],
   "source": [
    "from keras.models import load_model\n",
    "model = load_model(model_path, custom_objects={'MyLoss': MyLoss, 'MyMetrics': MyMetrics})"
   ]
  },
  {
   "cell_type": "code",
   "execution_count": 14,
   "metadata": {},
   "outputs": [
    {
     "name": "stdout",
     "output_type": "stream",
     "text": [
      "_________________________________________________________________\n",
      "Layer (type)         Output Shape  Param # \n",
      "=================================================================\n",
      "dense_11 (Dense)     (None, 128)   100480  \n",
      "_________________________________________________________________\n",
      "dense_12 (Dense)     (None, 128)   16512   \n",
      "_________________________________________________________________\n",
      "dropout_4 (Dropout)  (None, 128)   0       \n",
      "_________________________________________________________________\n",
      "dense_13 (Dense)     (None, 10)    1290    \n",
      "=================================================================\n",
      "Total params: 118,282\n",
      "Trainable params: 118,282\n",
      "Non-trainable params: 0\n",
      "_________________________________________________________________\n"
     ]
    }
   ],
   "source": [
    "from keras.utils import print_summary\n",
    "print_summary(model, positions=[.33, .55, .67, 1.])"
   ]
  },
  {
   "cell_type": "code",
   "execution_count": 29,
   "metadata": {},
   "outputs": [
    {
     "name": "stdout",
     "output_type": "stream",
     "text": [
      "_________________________________________________________________\n",
      " Output Shape                   Param #                          \n",
      "=================================================================\n",
      " (None, 128)                    100480                           \n",
      "_________________________________________________________________\n",
      " (None, 128)                    16512                            \n",
      "_________________________________________________________________\n",
      " (None, 128)                    0                                \n",
      "_________________________________________________________________\n",
      " (None, 10)                     1290                             \n",
      "=================================================================\n",
      "Total params: 118,282\n",
      "Trainable params: 118,282\n",
      "Non-trainable params: 0\n",
      "_________________________________________________________________\n"
     ]
    }
   ],
   "source": [
    "print_summary(model, positions=[.0, .5, 1., 1.])"
   ]
  },
  {
   "cell_type": "code",
   "execution_count": 32,
   "metadata": {},
   "outputs": [
    {
     "name": "stdout",
     "output_type": "stream",
     "text": [
      "____________________________________________________________________________________________________\n",
      "Layer (type)                                 Output Shape                            Param #        \n",
      "====================================================================================================\n",
      "dense_11 (Dense)                             (None, 128)                             100480         \n",
      "____________________________________________________________________________________________________\n",
      "dense_12 (Dense)                             (None, 128)                             16512          \n",
      "____________________________________________________________________________________________________\n",
      "dropout_4 (Dropout)                          (None, 128)                             0              \n",
      "____________________________________________________________________________________________________\n",
      "dense_13 (Dense)                             (None, 10)                              1290           \n",
      "====================================================================================================\n",
      "Total params: 118,282\n",
      "Trainable params: 118,282\n",
      "Non-trainable params: 0\n",
      "____________________________________________________________________________________________________\n"
     ]
    }
   ],
   "source": [
    "model.summary(line_length=100)"
   ]
  },
  {
   "cell_type": "code",
   "execution_count": null,
   "metadata": {},
   "outputs": [],
   "source": []
  }
 ],
 "metadata": {
  "kernelspec": {
   "display_name": "Python 3",
   "language": "python",
   "name": "python3"
  },
  "language_info": {
   "codemirror_mode": {
    "name": "ipython",
    "version": 3
   },
   "file_extension": ".py",
   "mimetype": "text/x-python",
   "name": "python",
   "nbconvert_exporter": "python",
   "pygments_lexer": "ipython3",
   "version": "3.6.4"
  }
 },
 "nbformat": 4,
 "nbformat_minor": 2
}
