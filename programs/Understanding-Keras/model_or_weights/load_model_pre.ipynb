{
 "cells": [
  {
   "cell_type": "code",
   "execution_count": 1,
   "metadata": {},
   "outputs": [
    {
     "name": "stderr",
     "output_type": "stream",
     "text": [
      "Using TensorFlow backend.\n"
     ]
    }
   ],
   "source": [
    "import keras\n",
    "from keras.callbacks import ModelCheckpoint\n",
    "from keras.datasets import mnist\n",
    "from keras.models import Sequential\n",
    "from keras.layers import Dense, Dropout, Flatten\n",
    "from keras.layers import Conv2D, MaxPooling2D\n",
    "from keras import backend as K"
   ]
  },
  {
   "cell_type": "code",
   "execution_count": 2,
   "metadata": {},
   "outputs": [],
   "source": [
    "batch_size = 128\n",
    "num_classes = 10\n",
    "epochs = 5\n",
    "\n",
    "# the data, split between train and test sets\n",
    "(x_train, y_train), (x_test, y_test) = mnist.load_data()\n",
    "\n",
    "x_train = x_train.reshape(60000, 784)\n",
    "x_test = x_test.reshape(10000, 784)\n",
    "x_train = x_train.astype('float16')\n",
    "x_test = x_test.astype('float16')\n",
    "x_train /= 255\n",
    "x_test /= 255\n",
    "\n",
    "# convert class vectors to binary class matrices\n",
    "y_train = keras.utils.to_categorical(y_train, num_classes)\n",
    "y_test = keras.utils.to_categorical(y_test, num_classes)"
   ]
  },
  {
   "cell_type": "code",
   "execution_count": 3,
   "metadata": {},
   "outputs": [],
   "source": [
    "def MyLoss(y_true, y_pred):\n",
    "    return K.categorical_crossentropy(y_true, y_pred)\n",
    "\n",
    "def MyMetrics(y_true, y_pred):\n",
    "    return K.cast(K.equal(K.argmax(y_true, axis=-1),\n",
    "                          K.argmax(y_pred, axis=-1)),\n",
    "                  K.floatx())"
   ]
  },
  {
   "cell_type": "code",
   "execution_count": 4,
   "metadata": {},
   "outputs": [
    {
     "name": "stdout",
     "output_type": "stream",
     "text": [
      "Train on 60000 samples, validate on 10000 samples\n",
      "Epoch 1/5\n",
      "60000/60000 [==============================] - 5s 84us/step - loss: 0.4161 - MyMetrics: 0.8760 - val_loss: 0.1618 - val_MyMetrics: 0.9511\n",
      "\n",
      "Epoch 00001: val_loss improved from inf to 0.16180, saving model to b128_weights_f16.h5\n",
      "Epoch 2/5\n",
      "60000/60000 [==============================] - 3s 44us/step - loss: 0.1857 - MyMetrics: 0.9459 - val_loss: 0.1180 - val_MyMetrics: 0.9630\n",
      "\n",
      "Epoch 00002: val_loss improved from 0.16180 to 0.11802, saving model to b128_weights_f16.h5\n",
      "Epoch 3/5\n",
      "60000/60000 [==============================] - 3s 44us/step - loss: 0.1366 - MyMetrics: 0.9601 - val_loss: 0.0995 - val_MyMetrics: 0.9684\n",
      "\n",
      "Epoch 00003: val_loss improved from 0.11802 to 0.09949, saving model to b128_weights_f16.h5\n",
      "Epoch 4/5\n",
      "60000/60000 [==============================] - 3s 43us/step - loss: 0.1103 - MyMetrics: 0.9676 - val_loss: 0.0863 - val_MyMetrics: 0.9728\n",
      "\n",
      "Epoch 00004: val_loss improved from 0.09949 to 0.08628, saving model to b128_weights_f16.h5\n",
      "Epoch 5/5\n",
      "60000/60000 [==============================] - 3s 44us/step - loss: 0.0906 - MyMetrics: 0.9737 - val_loss: 0.0792 - val_MyMetrics: 0.9757\n",
      "\n",
      "Epoch 00005: val_loss improved from 0.08628 to 0.07917, saving model to b128_weights_f16.h5\n"
     ]
    },
    {
     "data": {
      "text/plain": [
       "<keras.callbacks.History at 0x7f88bf56e940>"
      ]
     },
     "execution_count": 4,
     "metadata": {},
     "output_type": "execute_result"
    }
   ],
   "source": [
    "model = Sequential()\n",
    "model.add(Dense(128, activation='relu', input_shape=(784,)))\n",
    "model.add(Dense(128, activation='relu'))\n",
    "model.add(Dropout(0.5))\n",
    "model.add(Dense(num_classes, activation='softmax'))\n",
    "\n",
    "model.compile(loss=MyLoss,\n",
    "              optimizer=keras.optimizers.Adadelta(),\n",
    "              metrics=[MyMetrics])\n",
    "\n",
    "callbacks = [ModelCheckpoint('b128_weights_f16.h5', monitor='val_loss', save_best_only=True, verbose=1, save_weights_only=True)]\n",
    "\n",
    "model.fit(x_train, y_train,\n",
    "          batch_size=batch_size,\n",
    "          epochs=epochs,\n",
    "          verbose=1,\n",
    "          validation_data=(x_test, y_test),\n",
    "          callbacks=callbacks)"
   ]
  },
  {
   "cell_type": "code",
   "execution_count": null,
   "metadata": {},
   "outputs": [],
   "source": []
  }
 ],
 "metadata": {
  "kernelspec": {
   "display_name": "Python 3",
   "language": "python",
   "name": "python3"
  },
  "language_info": {
   "codemirror_mode": {
    "name": "ipython",
    "version": 3
   },
   "file_extension": ".py",
   "mimetype": "text/x-python",
   "name": "python",
   "nbconvert_exporter": "python",
   "pygments_lexer": "ipython3",
   "version": "3.6.4"
  }
 },
 "nbformat": 4,
 "nbformat_minor": 2
}
