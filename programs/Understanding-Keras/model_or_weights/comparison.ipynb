{
 "cells": [
  {
   "cell_type": "code",
   "execution_count": 1,
   "metadata": {},
   "outputs": [],
   "source": [
    "import numpy as np\n",
    "import os\n",
    "import time"
   ]
  },
  {
   "cell_type": "markdown",
   "metadata": {},
   "source": [
    "## File size"
   ]
  },
  {
   "cell_type": "code",
   "execution_count": 2,
   "metadata": {},
   "outputs": [
    {
     "name": "stdout",
     "output_type": "stream",
     "text": [
      "===============================\n",
      "Model file size\n",
      "===============================\n",
      "128: 1443904\n",
      " 64: 1443888\n",
      " 16: 1443888\n",
      "  1: 1443904\n",
      "===============================\n",
      "Weight file size\n",
      "===============================\n",
      "128: 488808\n",
      " 64: 488808\n",
      " 16: 488808\n",
      "  1: 488808\n"
     ]
    }
   ],
   "source": [
    "print('===============================')\n",
    "print('Model file size')\n",
    "print('===============================')\n",
    "print('128:', os.path.getsize('b128.h5'))\n",
    "print(' 64:', os.path.getsize('b64.h5'))\n",
    "print(' 16:', os.path.getsize('b16.h5'))\n",
    "print('  1:', os.path.getsize('b1.h5'))\n",
    "print('===============================')\n",
    "print('Weight file size')\n",
    "print('===============================')\n",
    "print('128:', os.path.getsize('b128_weights.h5'))\n",
    "print(' 64:', os.path.getsize('b64_weights.h5'))\n",
    "print(' 16:', os.path.getsize('b16_weights.h5'))\n",
    "print('  1:', os.path.getsize('b1_weights.h5'))"
   ]
  },
  {
   "cell_type": "code",
   "execution_count": 2,
   "metadata": {},
   "outputs": [
    {
     "name": "stderr",
     "output_type": "stream",
     "text": [
      "Using TensorFlow backend.\n"
     ]
    }
   ],
   "source": [
    "import keras\n",
    "from keras.datasets import mnist\n",
    "from keras import backend as K\n",
    "(_, _), (x_test, y_test) = mnist.load_data()\n",
    "\n",
    "x_test = x_test.reshape(10000, 784)\n",
    "x_test = x_test.astype('float16')\n",
    "x_test /= 255\n",
    "y_test = keras.utils.to_categorical(y_test, 10)"
   ]
  },
  {
   "cell_type": "code",
   "execution_count": 7,
   "metadata": {},
   "outputs": [],
   "source": [
    "def MyLoss(y_true, y_pred):\n",
    "    return K.categorical_crossentropy(y_true, y_pred)\n",
    "\n",
    "def MyMetrics(y_true, y_pred):\n",
    "    return K.cast(K.equal(K.argmax(y_true, axis=-1),\n",
    "                          K.argmax(y_pred, axis=-1)),\n",
    "                  K.floatx())"
   ]
  },
  {
   "cell_type": "markdown",
   "metadata": {},
   "source": [
    "## 1. Load model (model file)"
   ]
  },
  {
   "cell_type": "code",
   "execution_count": 17,
   "metadata": {},
   "outputs": [
    {
     "name": "stdout",
     "output_type": "stream",
     "text": [
      "===============================\n",
      "b128.h5\n",
      "processing time:  0.060410261154174805\n",
      "===============================\n",
      "b64.h5\n",
      "processing time:  0.07071852684020996\n",
      "===============================\n",
      "b16.h5\n",
      "processing time:  0.07716250419616699\n",
      "===============================\n",
      "b1.h5\n",
      "processing time:  0.09580039978027344\n"
     ]
    }
   ],
   "source": [
    "from keras.models import load_model\n",
    "\n",
    "for model_path in ['b128.h5','b64.h5','b16.h5','b1.h5']:\n",
    "    print('===============================')\n",
    "    print(model_path)\n",
    "    model = load_model(model_path, custom_objects={'MyLoss': MyLoss, 'MyMetrics': MyMetrics})\n",
    "    start = time.time()\n",
    "    inputs = x_test[0][np.newaxis,...]\n",
    "    model.predict(inputs)\n",
    "    print(\"processing time: \", time.time() - start)"
   ]
  },
  {
   "cell_type": "code",
   "execution_count": 35,
   "metadata": {},
   "outputs": [
    {
     "name": "stdout",
     "output_type": "stream",
     "text": [
      "===============================\n",
      "b128.h5\n",
      "processing time:  0.08330082893371582\n",
      "===============================\n",
      "b64.h5\n",
      "processing time:  0.08836793899536133\n",
      "===============================\n",
      "b16.h5\n",
      "processing time:  0.09023380279541016\n",
      "===============================\n",
      "b1.h5\n",
      "processing time:  0.09201812744140625\n"
     ]
    }
   ],
   "source": [
    "from keras.models import load_model\n",
    "\n",
    "for model_path in ['b128.h5','b64.h5','b16.h5','b1.h5']:\n",
    "    print('===============================')\n",
    "    print(model_path)\n",
    "    model = load_model(model_path, custom_objects={'MyLoss': MyLoss, 'MyMetrics': MyMetrics}, compile=False)\n",
    "    start = time.time()\n",
    "    inputs = x_test[0][np.newaxis,...]\n",
    "    model.predict(inputs)\n",
    "    print(\"processing time: \", time.time() - start)"
   ]
  },
  {
   "cell_type": "markdown",
   "metadata": {},
   "source": [
    "## 2. Load weights (model file) & Compile"
   ]
  },
  {
   "cell_type": "code",
   "execution_count": 29,
   "metadata": {},
   "outputs": [
    {
     "name": "stdout",
     "output_type": "stream",
     "text": [
      "===============================\n",
      "b128.h5\n",
      "processing time:  0.06458497047424316\n",
      "===============================\n",
      "b64.h5\n",
      "processing time:  0.06462883949279785\n",
      "===============================\n",
      "b16.h5\n",
      "processing time:  0.06543183326721191\n",
      "===============================\n",
      "b1.h5\n",
      "processing time:  0.06795930862426758\n"
     ]
    }
   ],
   "source": [
    "for model_path in ['b128.h5','b64.h5','b16.h5','b1.h5']:\n",
    "    print('===============================')\n",
    "    print(model_path)\n",
    "    model.load_weights(model_path)\n",
    "    model.compile(loss=MyLoss, metrics=[MyMetrics], optimizer=keras.optimizers.Adadelta())\n",
    "    start = time.time()\n",
    "    inputs = x_test[0][np.newaxis,...]\n",
    "    model.predict(inputs)\n",
    "    print(\"processing time: \", time.time() - start)"
   ]
  },
  {
   "cell_type": "markdown",
   "metadata": {},
   "source": [
    "## 3. Load weights (model file)"
   ]
  },
  {
   "cell_type": "code",
   "execution_count": 3,
   "metadata": {},
   "outputs": [],
   "source": [
    "from keras.models import Sequential\n",
    "from keras.layers import Dense, Dropout\n",
    "\n",
    "model = Sequential()\n",
    "model.add(Dense(128, activation='relu', input_shape=(784,)))\n",
    "model.add(Dense(128, activation='relu'))\n",
    "model.add(Dropout(0.5))\n",
    "model.add(Dense(10, activation='softmax'))"
   ]
  },
  {
   "cell_type": "code",
   "execution_count": 9,
   "metadata": {},
   "outputs": [
    {
     "name": "stdout",
     "output_type": "stream",
     "text": [
      "===============================\n",
      "b128.h5\n",
      "processing time:  0.1546173095703125\n",
      "===============================\n",
      "b64.h5\n",
      "processing time:  0.0008764266967773438\n",
      "===============================\n",
      "b16.h5\n",
      "processing time:  0.000705718994140625\n",
      "===============================\n",
      "b1.h5\n",
      "processing time:  0.000507354736328125\n"
     ]
    }
   ],
   "source": [
    "for model_path in ['b128.h5','b64.h5','b16.h5','b1.h5']:\n",
    "    print('===============================')\n",
    "    print(model_path)\n",
    "    model.load_weights(model_path)\n",
    "    start = time.time()\n",
    "    inputs = x_test[0][np.newaxis,...]\n",
    "    model.predict(inputs)\n",
    "    print(\"processing time: \", time.time() - start)"
   ]
  },
  {
   "cell_type": "markdown",
   "metadata": {},
   "source": [
    "## 4. Load weights (weight file)"
   ]
  },
  {
   "cell_type": "code",
   "execution_count": 15,
   "metadata": {},
   "outputs": [
    {
     "name": "stdout",
     "output_type": "stream",
     "text": [
      "===============================\n",
      "b128_weights.h5\n",
      "processing time:  0.0011894702911376953\n",
      "===============================\n",
      "b64_weights.h5\n",
      "processing time:  0.0005702972412109375\n",
      "===============================\n",
      "b16_weights.h5\n",
      "processing time:  0.0007457733154296875\n",
      "===============================\n",
      "b1_weights.h5\n",
      "processing time:  0.0006995201110839844\n"
     ]
    }
   ],
   "source": [
    "for model_path in ['b128_weights.h5','b64_weights.h5','b16_weights.h5','b1_weights.h5']:\n",
    "    print('===============================')\n",
    "    print(model_path)\n",
    "    model.load_weights(model_path)\n",
    "    start = time.time()\n",
    "    inputs = x_test[0][np.newaxis,...]\n",
    "    model.predict(inputs)\n",
    "    print(\"processing time: \", time.time() - start)"
   ]
  },
  {
   "cell_type": "markdown",
   "metadata": {},
   "source": [
    "## 5. Load weights (weight file float16)"
   ]
  },
  {
   "cell_type": "code",
   "execution_count": 11,
   "metadata": {},
   "outputs": [
    {
     "name": "stdout",
     "output_type": "stream",
     "text": [
      "===============================\n",
      "b128_weights_f16.h5\n",
      "processing time:  0.0010137557983398438\n"
     ]
    }
   ],
   "source": [
    "for model_path in ['b128_weights_f16.h5']:\n",
    "    print('===============================')\n",
    "    print(model_path)\n",
    "    model.load_weights(model_path)\n",
    "    start = time.time()\n",
    "    inputs = x_test[0][np.newaxis,...]\n",
    "    model.predict(inputs)\n",
    "    print(\"processing time: \", time.time() - start)"
   ]
  },
  {
   "cell_type": "code",
   "execution_count": null,
   "metadata": {},
   "outputs": [],
   "source": []
  },
  {
   "cell_type": "markdown",
   "metadata": {},
   "source": [
    "## Conclusion (Inference speed)\n",
    "- load weights (batch size 1) > load model"
   ]
  },
  {
   "cell_type": "code",
   "execution_count": null,
   "metadata": {},
   "outputs": [],
   "source": []
  }
 ],
 "metadata": {
  "kernelspec": {
   "display_name": "Python 3",
   "language": "python",
   "name": "python3"
  },
  "language_info": {
   "codemirror_mode": {
    "name": "ipython",
    "version": 3
   },
   "file_extension": ".py",
   "mimetype": "text/x-python",
   "name": "python",
   "nbconvert_exporter": "python",
   "pygments_lexer": "ipython3",
   "version": "3.6.4"
  }
 },
 "nbformat": 4,
 "nbformat_minor": 2
}
